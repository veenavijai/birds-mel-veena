{
 "cells": [
  {
   "cell_type": "code",
   "execution_count": 55,
   "metadata": {
    "collapsed": true
   },
   "outputs": [],
   "source": [
    "import numpy as np\n",
    "from scipy.signal import spectrogram, lfilter\n",
    "from scipy.signal.windows import hann\n",
    "from scipy.fftpack import dct\n",
    "import os\n",
    "from matplotlib import pyplot as plt\n",
    "import cv2\n",
    "import librosa\n",
    "import time"
   ]
  },
  {
   "cell_type": "code",
   "execution_count": 56,
   "metadata": {
    "collapsed": true
   },
   "outputs": [],
   "source": [
    "#setting eps value for converting spec to log\n",
    "eps = 1e-10"
   ]
  },
  {
   "cell_type": "code",
   "execution_count": 57,
   "metadata": {
    "collapsed": true
   },
   "outputs": [],
   "source": [
    "#Helper function for compute_adi_even\n",
    "def get_start_stop_indices(freq_bins, multiples=1000, num_bins=8):\n",
    "    \n",
    "    #find the frequency index numbers to group in bins of 1kHz width from 0-1 kHz, 1-2, till 7-8kHz\n",
    "    stop_freq_idx = np.zeros((num_bins, 1))\n",
    "    start_freq_idx = np.zeros((num_bins,1))\n",
    "\n",
    "    for i in range(num_bins):\n",
    "        stop_freq = multiples*(i+1)\n",
    "        #to find the index to clip\n",
    "        stop_freq_idx[i] = freq_bins.searchsorted(stop_freq, side='right') - 1\n",
    "        if (i<num_bins-1):\n",
    "            start_freq_idx[i+1] = stop_freq_idx[i]+1\n",
    "        \n",
    "    return start_freq_idx, stop_freq_idx"
   ]
  },
  {
   "cell_type": "code",
   "execution_count": 58,
   "metadata": {
    "collapsed": true
   },
   "outputs": [],
   "source": [
    "def compute_ndsi(spec, start_indices, stop_indices, start_a_freq, stop_a_freq, start_b_freq, stop_b_freq):\n",
    "    \n",
    "    #Taken from the Kasten 2012 paper - page 6 has NDSI description\n",
    "    \n",
    "    #Anthrophony bin: 1-2 kHz\n",
    "    start_a = int(start_indices[start_a_freq])\n",
    "    stop_a = int(stop_indices[stop_a_freq-1])\n",
    "    \n",
    "    #Biophony bin: 2-8 kHz\n",
    "    start_b = int(start_indices[start_b_freq])\n",
    "    stop_b = int(stop_indices[stop_b_freq-1])\n",
    "    \n",
    "    #Taking absolute value - power spectral density was squared, so intensities are made positive here\n",
    "    \n",
    "    #anth_sum = np.sum(np.abs(spec[start_a:stop_a, :]))\n",
    "    #bio_sum = np.sum(np.abs(spec[start_b:stop_b, :]))\n",
    "    #NDSI = (bio_sum-anth_sum)/(bio_sum+anth_sum)\n",
    "    \n",
    "    anth_sum = np.sum(np.sum(np.abs(spec[:, start_a:stop_a, :]), axis = 2), axis = 1)\n",
    "    bio_sum = np.sum(np.sum(np.abs(spec[:, start_b:stop_b, :]), axis = 2), axis = 1)\n",
    "    NDSI = (bio_sum-anth_sum)/(bio_sum+anth_sum)\n",
    "    \n",
    "    return NDSI"
   ]
  },
  {
   "cell_type": "code",
   "execution_count": 59,
   "metadata": {
    "collapsed": true
   },
   "outputs": [],
   "source": [
    "#function to load spectrograms and display dimensions (optional)\n",
    "def load_display_dimensions(class_name, dim=0):\n",
    "\n",
    "    #   description of data files\n",
    "    #   spec_data is like a dict with fields\n",
    "    #   'specs' (contains the mel-filtered spectrograms, in linear scale, as [num_specs, num_rows, num_cols])\n",
    "    #   'spec_f' (contains the frequency axis points as a 1D array)\n",
    "    #   'spec_t' (contains the time axis points as a 1D array)   \n",
    "    \n",
    "    #choose if _spec or _melspec\n",
    "    fname_load = class_name + '_spec' + '.npz'\n",
    "    spec_data = np.load(fname_load)\n",
    "    \n",
    "    time_steps = len(spec_data['spec_t'])\n",
    "    freq_bins = len(spec_data['spec_f'])\n",
    "    \n",
    "    dim = 0\n",
    "    \n",
    "    if (dim==1):\n",
    "        print('File has %i specs of dimensions (%i x %i)' % (\n",
    "        spec_data['specs'].shape[0], spec_data['specs'].shape[1], spec_data['specs'].shape[2]))\n",
    "        print('Frequency axis points are in spec_data[\\'spec_f\\'] and has %i values' % freq_bins)\n",
    "        print('Time axis points are in spec_data[\\'spec_t\\'] and has %i values' % time_steps)\n",
    "        \n",
    "    return spec_data, time_steps, freq_bins"
   ]
  },
  {
   "cell_type": "code",
   "execution_count": 60,
   "metadata": {
    "collapsed": true
   },
   "outputs": [],
   "source": [
    "#function to calculate all acoustic indices and plot spectrogram (optional)\n",
    "def calc_plot(spec_start_idx, num_specs, spec_data, time_steps, freq_bins, freq_vals, start_freq_idx, stop_freq_idx, start_a_freq, stop_a_freq, start_b_freq, stop_b_freq, plot=0):\n",
    "\n",
    "    NDSI = np.zeros((num_specs, 1))\n",
    "        \n",
    "    #Calculation of acoustic indices for num_spec spectrograms here\n",
    "    all_specs = 10 * np.log10(spec_data['specs'][spec_start_idx:spec_start_idx+num_specs, :, :] + eps)\n",
    "    #NDSI = compute_ndsi(all_specs, start_freq_idx, stop_freq_idx, start_a_freq, stop_a_freq, start_b_freq, stop_b_freq)\n",
    "      \n",
    "    for spec_idx in range(num_specs):\n",
    "     \n",
    "        #Getting current spec from saved log spec\n",
    "        current_spec = all_specs[spec_start_idx + spec_idx, :, :] \n",
    "        \n",
    "        NDSI[spec_idx] = compute_ndsi(current_spec, start_freq_idx, stop_freq_idx, start_a_freq, stop_a_freq, start_b_freq, stop_b_freq)\n",
    "        \n",
    "        if(plot==1):\n",
    "            cax = axes[spec_idx].imshow(current_spec, cmap=plt.get_cmap('jet'), interpolation='none', origin='lower')\n",
    "            fig.colorbar(cax, ax=axes[spec_idx], orientation='vertical')\n",
    "        \n",
    "    \n",
    "    return NDSI\n",
    "       "
   ]
  },
  {
   "cell_type": "code",
   "execution_count": 61,
   "metadata": {
    "collapsed": true
   },
   "outputs": [],
   "source": [
    "def calls(class_name, spec_start_idx, num_specs, multiples, num_bins, dim=0, start_a_freq, stop_a_freq, start_b_freq, stop_b_freq, plot=0):\n",
    "\n",
    "    #Load the correct file\n",
    "    spec_data, time_steps, freq_bins = load_display_dimensions(class_name, dim)\n",
    "    \n",
    "    #Calling helper function \n",
    "    start_freq_idx, stop_freq_idx = get_start_stop_indices(spec_data['spec_f'], multiples, num_bins)\n",
    "    plot = 0\n",
    "   \n",
    "    #Computing acoustic indices\n",
    "    NDSI = calc_plot(spec_start_idx, num_specs, spec_data, time_steps, freq_bins, spec_data['spec_f'], start_freq_idx, stop_freq_idx, start_a_freq, stop_a_freq, start_b_freq, stop_b_freq, plot)\n",
    "        \n",
    "    return NDSI"
   ]
  },
  {
   "cell_type": "code",
   "execution_count": 62,
   "metadata": {
    "collapsed": true
   },
   "outputs": [],
   "source": [
    "#environmental sounds/noise\n",
    "fname_list = [\"Airplane_Sound\", \"Heavy_rain\", \"Brown_Noise\", \"Pink_Noise\", \"White_Noise\", \"Rufous_Antpitta\", \"Grey_headed_woodpecker\", \"Italian_Sparrow\", \"Hawk_scream\", \"Dove\"]\n",
    "\n"
   ]
  },
  {
   "cell_type": "code",
   "execution_count": 63,
   "metadata": {},
   "outputs": [
    {
     "name": "stdout",
     "output_type": "stream",
     "text": [
      "For  Airplane_Sound the NDSI value is:  [ 0.81170344]\n",
      "For  Heavy_rain the NDSI value is:  [ 0.77215022]\n",
      "For  Brown_Noise the NDSI value is:  [ 0.7483924]\n",
      "For  Pink_Noise the NDSI value is:  [ 0.71737576]\n",
      "For  White_Noise the NDSI value is:  [ 0.71737576]\n",
      "For  Rufous_Antpitta the NDSI value is:  [ 0.75110531]\n",
      "For  Grey_headed_woodpecker the NDSI value is:  [ 0.7614271]\n",
      "For  Italian_Sparrow the NDSI value is:  [ 0.75381267]\n",
      "For  Hawk_scream the NDSI value is:  [ 0.7130906]\n",
      "For  Dove the NDSI value is:  [ 0.77158856]\n",
      "Time taken: 148.9408016204834 ms\n"
     ]
    }
   ],
   "source": [
    "#Main\n",
    "\n",
    "#start timer\n",
    "tic = time.time()\n",
    "  \n",
    "#Make sure the indices don't get larger than spec_data['specs'].shape[0]\n",
    "spec_start_idx = 0\n",
    "#num_specs = 2\n",
    "\n",
    "num_specs = 1\n",
    "\n",
    "#Other parameters\n",
    "plot = 0\n",
    "dim = 1\n",
    "num_bins = 8            #for compute_adi_even\n",
    "multiples = 1000\n",
    "\n",
    "#NDSI frequencies in kHz\n",
    "start_a_freq = 1\n",
    "stop_a_freq = 2\n",
    "start_b_freq = 2\n",
    "stop_b_freq = 8\n",
    "\n",
    "NDSI = np.zeros((10, 1))\n",
    "#Calls for each class\n",
    "\n",
    "for i in range(10):\n",
    "    \n",
    "    #str_name = 'fname' + str(i+1)\n",
    "    NDSI[i] = calls(fname_list[i], spec_start_idx, num_specs, multiples, num_bins, dim, start_a_freq, stop_a_freq, start_b_freq, stop_b_freq, plot)\n",
    "    \n",
    "    print(\"For \", fname_list[i], \"the NDSI value is: \", NDSI[i])\n",
    "\n",
    "#end timer\n",
    "toc = time.time()\n",
    "print(\"Time taken: \" + str(1000*(toc-tic)) + \" ms\")\n",
    "\n",
    "#Display    \n",
    "#plt.show()"
   ]
  }
 ],
 "metadata": {
  "kernelspec": {
   "display_name": "Python 3",
   "language": "python",
   "name": "python3"
  },
  "language_info": {
   "codemirror_mode": {
    "name": "ipython",
    "version": 3
   },
   "file_extension": ".py",
   "mimetype": "text/x-python",
   "name": "python",
   "nbconvert_exporter": "python",
   "pygments_lexer": "ipython3",
   "version": "3.6.3"
  }
 },
 "nbformat": 4,
 "nbformat_minor": 2
}
