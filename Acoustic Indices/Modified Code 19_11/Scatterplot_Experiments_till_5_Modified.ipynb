{
 "cells": [
  {
   "cell_type": "code",
   "execution_count": 1,
   "metadata": {
    "collapsed": true
   },
   "outputs": [],
   "source": [
    "#NOTE about this version - \n",
    "#(1) All implementations are vectorized and have been checked against original implementation.\n",
    "#(2) eps is added to all spectrograms to get rid of divide by zero error.\n",
    "#(3) Dividing by freq_bin is removed in the SH implementation - not specified in original paper.\n",
    "#(4) No NaN problems so the pandas notnull function has been removed everywhere\n",
    "#(5) At the end - saves computed indices for originalspec+4channels into an npz file\n",
    "\n",
    "#Has operations to get different scatterplots as functions named exp1_... and so on.\n",
    "\n",
    "#This program loads data from 4 different classes\n",
    "#good, bad, human, maybe\n",
    "\n",
    "#And uses 5 different acoustic indices on num_spec recordings from each\n",
    "#1. ACI 2. ADI 3. ADI_even 4. SH 5. NDSI\n",
    "\n",
    "#Each recording is exactly 2 s long\n",
    "\n",
    "#Final result: a scatter plot for each acoustic index + scatterplot matrix - pandas\n",
    "\n",
    "#Spectrograms used: original+4 differential channels\n"
   ]
  },
  {
   "cell_type": "code",
   "execution_count": 2,
   "metadata": {
    "collapsed": true
   },
   "outputs": [],
   "source": [
    "#imports\n",
    "import numpy as np\n",
    "from matplotlib import pyplot as plt\n",
    "from scipy.signal import hilbert\n",
    "from scipy.signal import stft\n",
    "import librosa\n",
    "import os\n",
    "\n",
    "#for scatter matrix\n",
    "import pandas as pd\n",
    "from pandas.plotting import scatter_matrix\n",
    "\n",
    "#setting eps value for converting spec to log\n",
    "eps = 1e-10\n",
    "\n",
    "#function definitions for acoustic indices begin here\n"
   ]
  },
  {
   "cell_type": "code",
   "execution_count": 3,
   "metadata": {
    "collapsed": true
   },
   "outputs": [],
   "source": [
    "#1. ACI\n",
    "def compute_aci(specs, time_steps, freq_bins, num_specs):\n",
    "      \n",
    "    #Function computes Acoustic Complexity Index\n",
    "    #According to:\n",
    "    #http://www.iinsteco.org/people/pubblications/almo/2011/2011_A_new%20methodology_to_infer_the_singing_activity.pdf\n",
    "    \n",
    "    #Adding eps\n",
    "    specs = specs + eps  \n",
    "    \n",
    "    abs_diff = np.abs(specs[:, :, 1:] - specs[:, :, 0:time_steps-1])\n",
    "    ACI = np.sum(np.sum(abs_diff, axis = 2)/np.sum(specs, axis = 2), axis = 1)\n",
    "    \n",
    "    return ACI"
   ]
  },
  {
   "cell_type": "code",
   "execution_count": 4,
   "metadata": {
    "collapsed": true
   },
   "outputs": [],
   "source": [
    "#2. Acoustic diversity\n",
    "def compute_adi(specs, time_steps):\n",
    "\n",
    "    #Function computes Acoustic Diversity Index\n",
    "    #According to: Pekin (2012)\n",
    "    #Each bin corresponds to one of the 70 frequency points\n",
    "   \n",
    "    #Adding eps\n",
    "    specs = specs + eps\n",
    "    \n",
    "    #Shyam\n",
    "    row_sums = specs.sum(axis=2, keepdims=False)\n",
    "    all_sum = row_sums.sum(axis=1, keepdims=True)\n",
    "    row_norm = row_sums/all_sum                                  #normalization\n",
    "    ADI_all = (row_norm * np.log(row_norm)).sum(axis=1)\n",
    "\n",
    "    return ADI_all\n"
   ]
  },
  {
   "cell_type": "code",
   "execution_count": 5,
   "metadata": {
    "collapsed": true
   },
   "outputs": [],
   "source": [
    "#Helper function for compute_adi_even\n",
    "def get_start_stop_indices(freq_bins, multiples=1000, num_bins=8):\n",
    "    \n",
    "    #find the frequency index numbers to group in bins of 1kHz width from 0-1 kHz, 1-2, till 7-8kHz\n",
    "    stop_freq_idx = np.zeros((num_bins, 1))\n",
    "    start_freq_idx = np.zeros((num_bins,1))\n",
    "\n",
    "    for i in range(num_bins):\n",
    "        stop_freq = multiples*(i+1)\n",
    "        #to find the index to clip\n",
    "        stop_freq_idx[i] = freq_bins.searchsorted(stop_freq, side='right') - 1\n",
    "        if (i<num_bins-1):\n",
    "            start_freq_idx[i+1] = stop_freq_idx[i]+1\n",
    "        \n",
    "    return start_freq_idx, stop_freq_idx\n",
    "        "
   ]
  },
  {
   "cell_type": "code",
   "execution_count": 6,
   "metadata": {
    "collapsed": true
   },
   "outputs": [],
   "source": [
    "#3. Acoustic diversity with evenly spaced bins\n",
    "def compute_adi_even(num_bins, specs, freq_vals, start_indices, stop_indices):\n",
    "\n",
    "    #Function computes Acoustic Diversity Index\n",
    "    #According to: Pekin (2012)\n",
    "    \n",
    "    #Adding eps\n",
    "    specs = specs+eps\n",
    "  \n",
    "    num_specs = specs.shape[0]\n",
    "    ADI_bins = np.zeros((num_specs, num_bins))\n",
    "    \n",
    "    ADI_all = 0\n",
    "    \n",
    "    for i in range(num_bins):      \n",
    "    \n",
    "        #for loop for all time steps in same freq bin - sum each row\n",
    "        start = int(start_indices[i])\n",
    "        stop = int(stop_indices[i])\n",
    "        specs_strip = specs[:, start:stop, :]\n",
    "        ADI_bins[:, i] = np.sum(np.sum(specs_strip, axis = 2), axis = 1)\n",
    "        \n",
    "    #Normalizing by summing along axis 1: bin number\n",
    "    ADI_bins_norm = ADI_bins/np.sum(ADI_bins, axis = 1, keepdims=True)\n",
    "    \n",
    "    #Computing\n",
    "    ADI_all = (ADI_bins_norm * np.log(ADI_bins_norm)).sum(axis=1)\n",
    "    \n",
    "    return ADI_all"
   ]
  },
  {
   "cell_type": "code",
   "execution_count": 7,
   "metadata": {},
   "outputs": [],
   "source": [
    "#4. Spectral entropy \n",
    "def compute_sh(specs, time_steps, freq_bin):\n",
    "    \n",
    "    #This function is a modified version of  spectral entropy as described in Sueur (2008)\n",
    "       \n",
    "    #Adding eps\n",
    "    specs = specs+eps\n",
    "    \n",
    "    #Convert each frame to absolute value\n",
    "    time_sums = np.sum(np.abs(specs), axis = 1, keepdims=True)\n",
    "    spec_norm = np.divide(np.abs(specs), time_sums)\n",
    "\n",
    "    #Added the eps in the log term, using np.multiply\n",
    "    mult_term = np.multiply(spec_norm, np.log2(spec_norm + eps))\n",
    "    \n",
    "    #print(\"First frame multiplied: \", mult_term[0, :, 1])\n",
    "   \n",
    "    sh_all = - np.sum(mult_term.sum(axis = 1), axis = 1)\n",
    "    sh_all = sh_all/np.log2(freq_bin)          #normalizing\n",
    "    \n",
    "    return sh_all"
   ]
  },
  {
   "cell_type": "code",
   "execution_count": 8,
   "metadata": {
    "collapsed": true
   },
   "outputs": [],
   "source": [
    "#5. NDSI\n",
    "def compute_ndsi(spec, start_indices, stop_indices, start_a_freq, stop_a_freq, start_b_freq, stop_b_freq):\n",
    "    \n",
    "    #Taken from the Kasten 2012 paper - page 6 has NDSI description\n",
    "    \n",
    "    #Adding eps\n",
    "    spec = spec + eps\n",
    "    \n",
    "    #Anthrophony bin: 1-2 kHz\n",
    "    start_a = int(start_indices[start_a_freq])\n",
    "    stop_a = int(stop_indices[stop_a_freq-1])\n",
    "    \n",
    "    #Biophony bin: 2-8 kHz\n",
    "    start_b = int(start_indices[start_b_freq])\n",
    "    stop_b = int(stop_indices[stop_b_freq-1])\n",
    "    \n",
    "    #Taking absolute value - power spectral density was squared, so intensities are made positive here\n",
    "\n",
    "    anth_sum = np.sum(np.sum(np.abs(spec[:, start_a:stop_a, :]), axis = 2), axis = 1)\n",
    "    bio_sum = np.sum(np.sum(np.abs(spec[:, start_b:stop_b, :]), axis = 2), axis = 1)\n",
    "    NDSI = (bio_sum-anth_sum)/(bio_sum+anth_sum)\n",
    "    \n",
    "    return NDSI"
   ]
  },
  {
   "cell_type": "code",
   "execution_count": 9,
   "metadata": {
    "collapsed": true
   },
   "outputs": [],
   "source": [
    "#function to load spectrograms and display dimensions (optional)\n",
    "def load_display_dimensions(class_name, str_file, dim=0):\n",
    "\n",
    "    #   description of data files\n",
    "    #   spec_data is like a dict with fields\n",
    "    #   'specs' (contains the mel-filtered spectrograms, in linear scale, as [num_specs, num_rows, num_cols])\n",
    "    #   'spec_f' (contains the frequency axis points as a 1D array)\n",
    "    #   'spec_t' (contains the time axis points as a 1D array)   \n",
    "    \n",
    "    fname_load = class_name + str_file\n",
    "    spec_data = np.load(fname_load)\n",
    "    \n",
    "    time_steps = len(spec_data['spec_t'])\n",
    "    freq_bins = len(spec_data['spec_f'])\n",
    "    \n",
    "    if (dim==1):\n",
    "        print('File has %i specs of dimensions (%i x %i)' % (\n",
    "        spec_data['specs'].shape[0], spec_data['specs'].shape[1], spec_data['specs'].shape[2]))\n",
    "        print('Frequency axis points are in spec_data[\\'spec_f\\'] and has %i values' % freq_bins)\n",
    "        print('Time axis points are in spec_data[\\'spec_t\\'] and has %i values' % time_steps)\n",
    "        \n",
    "    return spec_data, time_steps, freq_bins\n",
    "    \n"
   ]
  },
  {
   "cell_type": "code",
   "execution_count": 10,
   "metadata": {
    "collapsed": true
   },
   "outputs": [],
   "source": [
    "#function to calculate all acoustic indices and plot spectrogram (optional)\n",
    "def calc_plot(num_bins, spec_start_idx, num_specs, spec_data, ch, time_steps, freq_bins, freq_vals, start_freq_idx, stop_freq_idx, start_a_freq, stop_a_freq, start_b_freq, stop_b_freq, plot=0):\n",
    "    \n",
    "    ACI = np.zeros((num_specs, 1))\n",
    "    ADI = np.zeros((num_specs, 1))\n",
    "    ADI_even = np.zeros((num_specs, 1))\n",
    "    SH = np.zeros((num_specs, 1))\n",
    "    NDSI = np.zeros((num_specs, 1))\n",
    "       \n",
    "    if (plot==1):\n",
    "        fig, axes = plt.subplots(num_specs, 1, sharex='all')\n",
    "        plt.title('Spectrogram for ' + 'good')\n",
    "      \n",
    "    #Store log version of all spectrograms in all_specs\n",
    "    #all_specs = 10 * np.log10(spec_data['specs'][spec_start_idx:spec_start_idx+num_specs, :, :] + eps)\n",
    "    \n",
    "    if(ch==-1):\n",
    "        #Original spectrogram\n",
    "        all_specs = 10 * np.log10(spec_data['specs'][spec_start_idx:spec_start_idx+num_specs, :, :] + eps)\n",
    "    elif (ch==5):\n",
    "        #Experiment no. 4 - has 3 dimensions only\n",
    "        all_specs = spec_data\n",
    "    else:\n",
    "        #4 differential channels so 1 dimension extra at the end for which channel\n",
    "        all_specs = spec_data['specs'][spec_start_idx:spec_start_idx+num_specs, :, :, ch] \n",
    "\n",
    "    #Vectorized implementations \n",
    "    ACI = compute_aci(all_specs, time_steps, freq_bins, num_specs)\n",
    "    ADI = compute_adi(all_specs, time_steps)\n",
    "    ADI_even = compute_adi_even(num_bins, all_specs, freq_vals, start_freq_idx, stop_freq_idx)\n",
    "    SH = compute_sh(all_specs, time_steps, freq_bins)\n",
    "    NDSI = compute_ndsi(all_specs, start_freq_idx, stop_freq_idx, start_a_freq, stop_a_freq, start_b_freq, stop_b_freq)\n",
    "             \n",
    "    if(plot==1):\n",
    "        cax = axes[spec_idx].imshow(current_spec, cmap=plt.get_cmap('jet'), interpolation='none', origin='lower')\n",
    "        fig.colorbar(cax, ax=axes[spec_idx], orientation='vertical')\n",
    "        \n",
    "    \n",
    "    return ACI, ADI, ADI_even, SH, NDSI\n"
   ]
  },
  {
   "cell_type": "code",
   "execution_count": 11,
   "metadata": {
    "collapsed": true
   },
   "outputs": [],
   "source": [
    "#calls all functions for each class - is for the original data\n",
    "def calls_orig(class_name, spec_start_idx, num_specs, multiples, num_bins, dim, start_a_freq, stop_a_freq, start_b_freq, stop_b_freq, plot=0):\n",
    "\n",
    "    #Load the correct file\n",
    "    str_file = '.npz'\n",
    "    spec_data, time_steps, freq_bins = load_display_dimensions(class_name, str_file, dim)\n",
    "    \n",
    "    #Calling helper function for compute_adi_even\n",
    "    start_freq_idx, stop_freq_idx = get_start_stop_indices(spec_data['spec_f'], multiples, num_bins)\n",
    "\n",
    "    #Computing acoustic indices for all 4 channels\n",
    "    ch = -1\n",
    "    ACI, ADI, ADI_even, SH, NDSI = calc_plot(num_bins, spec_start_idx, num_specs, spec_data, ch, time_steps, freq_bins, spec_data['spec_f'], start_freq_idx, stop_freq_idx, start_a_freq, stop_a_freq, start_b_freq, stop_b_freq, plot)\n",
    "    \n",
    "    return ACI, ADI, ADI_even, SH, NDSI"
   ]
  },
  {
   "cell_type": "code",
   "execution_count": 12,
   "metadata": {
    "collapsed": true
   },
   "outputs": [],
   "source": [
    "#calls all functions for each class\n",
    "def calls(class_name, spec_start_idx, num_specs, multiples, num_bins, dim, start_a_freq, stop_a_freq, start_b_freq, stop_b_freq, plot=0):\n",
    "\n",
    "    #Load the correct file\n",
    "    str_file = '_preprocessed_uncompressed.npz'\n",
    "    spec_data, time_steps, freq_bins = load_display_dimensions(class_name, str_file, dim)\n",
    "    \n",
    "    #Calling helper function for compute_adi_even\n",
    "    start_freq_idx, stop_freq_idx = get_start_stop_indices(spec_data['spec_f'], multiples, num_bins)\n",
    "\n",
    "    #Computing acoustic indices for all 4 channels\n",
    "    ACI1, ADI1, ADI_even1, SH1, NDSI1 = calc_plot(num_bins, spec_start_idx, num_specs, spec_data, 0, time_steps, freq_bins, spec_data['spec_f'], start_freq_idx, stop_freq_idx, start_a_freq, stop_a_freq, start_b_freq, stop_b_freq, plot)\n",
    "    ACI2, ADI2, ADI_even2, SH2, NDSI2 = calc_plot(num_bins, spec_start_idx, num_specs, spec_data, 1, time_steps, freq_bins, spec_data['spec_f'], start_freq_idx, stop_freq_idx, start_a_freq, stop_a_freq, start_b_freq, stop_b_freq, plot)\n",
    "    ACI3, ADI3, ADI_even3, SH3, NDSI3 = calc_plot(num_bins, spec_start_idx, num_specs, spec_data, 2, time_steps, freq_bins, spec_data['spec_f'], start_freq_idx, stop_freq_idx, start_a_freq, stop_a_freq, start_b_freq, stop_b_freq, plot)\n",
    "    ACI4, ADI4, ADI_even4, SH4, NDSI4 = calc_plot(num_bins, spec_start_idx, num_specs, spec_data, 3, time_steps, freq_bins, spec_data['spec_f'], start_freq_idx, stop_freq_idx, start_a_freq, stop_a_freq, start_b_freq, stop_b_freq, plot)\n",
    "\n",
    "    return ACI1, ADI1, ADI_even1, SH1, NDSI1, ACI2, ADI2, ADI_even2, SH2, NDSI2, ACI3, ADI3, ADI_even3, SH3, NDSI3, ACI4, ADI4, ADI_even4, SH4, NDSI4\n",
    "       "
   ]
  },
  {
   "cell_type": "code",
   "execution_count": 13,
   "metadata": {
    "collapsed": true
   },
   "outputs": [],
   "source": [
    "#Main - setting all parameters\n",
    "\n",
    "#Defining classes\n",
    "class1 = 'good'\n",
    "class2 = 'bad'\n",
    "class3 = 'human'\n",
    "class4 = 'maybe'\n",
    "\n",
    "#Make sure the indices don't get larger than spec_data['specs'].shape[0]\n",
    "spec_start_idx = 0\n",
    "#num_specs = 2\n",
    "\n",
    "num_specs_g = 2958\n",
    "num_specs_b = 127\n",
    "num_specs_h = 205\n",
    "num_specs_m = 131\n",
    "'''\n",
    "num_specs_g = 120\n",
    "num_specs_b = 120\n",
    "num_specs_h = 120\n",
    "num_specs_m = 120'''\n",
    "\n",
    "#Other parameters\n",
    "plot = 0\n",
    "dim = 1\n",
    "num_bins = 8            #for compute_adi_even\n",
    "multiples = 1000\n",
    "\n",
    "#NDSI bin frequencies in kHz - a = anthrophony, b = biophony\n",
    "#Values set according to the original paper\n",
    "start_a_freq = 1\n",
    "stop_a_freq = 2\n",
    "start_b_freq = 2\n",
    "stop_b_freq = 8\n",
    "\n"
   ]
  },
  {
   "cell_type": "code",
   "execution_count": 14,
   "metadata": {
    "scrolled": true
   },
   "outputs": [
    {
     "ename": "KeyboardInterrupt",
     "evalue": "",
     "output_type": "error",
     "traceback": [
      "\u001b[1;31m---------------------------------------------------------------------------\u001b[0m",
      "\u001b[1;31mKeyboardInterrupt\u001b[0m                         Traceback (most recent call last)",
      "\u001b[1;32m<ipython-input-14-c5fb18d5f09a>\u001b[0m in \u001b[0;36m<module>\u001b[1;34m()\u001b[0m\n\u001b[0;32m      1\u001b[0m \u001b[1;31m#Calls for each class\u001b[0m\u001b[1;33m\u001b[0m\u001b[1;33m\u001b[0m\u001b[0m\n\u001b[1;32m----> 2\u001b[1;33m \u001b[0mACI_G1\u001b[0m\u001b[1;33m,\u001b[0m \u001b[0mADI_G1\u001b[0m\u001b[1;33m,\u001b[0m \u001b[0mADI_even_G1\u001b[0m\u001b[1;33m,\u001b[0m \u001b[0mSH_G1\u001b[0m\u001b[1;33m,\u001b[0m \u001b[0mNDSI_G1\u001b[0m\u001b[1;33m,\u001b[0m \u001b[0mACI_G2\u001b[0m\u001b[1;33m,\u001b[0m \u001b[0mADI_G2\u001b[0m\u001b[1;33m,\u001b[0m \u001b[0mADI_even_G2\u001b[0m\u001b[1;33m,\u001b[0m \u001b[0mSH_G2\u001b[0m\u001b[1;33m,\u001b[0m \u001b[0mNDSI_G2\u001b[0m\u001b[1;33m,\u001b[0m \u001b[0mACI_G3\u001b[0m\u001b[1;33m,\u001b[0m \u001b[0mADI_G3\u001b[0m\u001b[1;33m,\u001b[0m \u001b[0mADI_even_G3\u001b[0m\u001b[1;33m,\u001b[0m \u001b[0mSH_G3\u001b[0m\u001b[1;33m,\u001b[0m \u001b[0mNDSI_G3\u001b[0m\u001b[1;33m,\u001b[0m \u001b[0mACI_G4\u001b[0m\u001b[1;33m,\u001b[0m \u001b[0mADI_G4\u001b[0m\u001b[1;33m,\u001b[0m \u001b[0mADI_even_G4\u001b[0m\u001b[1;33m,\u001b[0m \u001b[0mSH_G4\u001b[0m\u001b[1;33m,\u001b[0m \u001b[0mNDSI_G4\u001b[0m \u001b[1;33m=\u001b[0m \u001b[0mcalls\u001b[0m\u001b[1;33m(\u001b[0m\u001b[0mclass1\u001b[0m\u001b[1;33m,\u001b[0m \u001b[0mspec_start_idx\u001b[0m\u001b[1;33m,\u001b[0m \u001b[0mnum_specs_g\u001b[0m\u001b[1;33m,\u001b[0m \u001b[0mmultiples\u001b[0m\u001b[1;33m,\u001b[0m \u001b[0mnum_bins\u001b[0m\u001b[1;33m,\u001b[0m \u001b[0mdim\u001b[0m\u001b[1;33m,\u001b[0m \u001b[0mstart_a_freq\u001b[0m\u001b[1;33m,\u001b[0m \u001b[0mstop_a_freq\u001b[0m\u001b[1;33m,\u001b[0m \u001b[0mstart_b_freq\u001b[0m\u001b[1;33m,\u001b[0m \u001b[0mstop_b_freq\u001b[0m\u001b[1;33m,\u001b[0m \u001b[0mplot\u001b[0m\u001b[1;33m)\u001b[0m\u001b[1;33m\u001b[0m\u001b[0m\n\u001b[0m\u001b[0;32m      3\u001b[0m \u001b[0mprint\u001b[0m\u001b[1;33m(\u001b[0m\u001b[1;34m\"Done with class Good\"\u001b[0m\u001b[1;33m)\u001b[0m\u001b[1;33m\u001b[0m\u001b[0m\n\u001b[0;32m      4\u001b[0m \u001b[0mACI_B1\u001b[0m\u001b[1;33m,\u001b[0m \u001b[0mADI_B1\u001b[0m\u001b[1;33m,\u001b[0m \u001b[0mADI_even_B1\u001b[0m\u001b[1;33m,\u001b[0m \u001b[0mSH_B1\u001b[0m\u001b[1;33m,\u001b[0m \u001b[0mNDSI_B1\u001b[0m\u001b[1;33m,\u001b[0m \u001b[0mACI_B2\u001b[0m\u001b[1;33m,\u001b[0m \u001b[0mADI_B2\u001b[0m\u001b[1;33m,\u001b[0m \u001b[0mADI_even_B2\u001b[0m\u001b[1;33m,\u001b[0m \u001b[0mSH_B2\u001b[0m\u001b[1;33m,\u001b[0m \u001b[0mNDSI_B2\u001b[0m\u001b[1;33m,\u001b[0m \u001b[0mACI_B3\u001b[0m\u001b[1;33m,\u001b[0m \u001b[0mADI_B3\u001b[0m\u001b[1;33m,\u001b[0m \u001b[0mADI_even_B3\u001b[0m\u001b[1;33m,\u001b[0m \u001b[0mSH_B3\u001b[0m\u001b[1;33m,\u001b[0m \u001b[0mNDSI_B3\u001b[0m\u001b[1;33m,\u001b[0m \u001b[0mACI_B4\u001b[0m\u001b[1;33m,\u001b[0m \u001b[0mADI_B4\u001b[0m\u001b[1;33m,\u001b[0m \u001b[0mADI_even_B4\u001b[0m\u001b[1;33m,\u001b[0m \u001b[0mSH_B4\u001b[0m\u001b[1;33m,\u001b[0m \u001b[0mNDSI_B4\u001b[0m \u001b[1;33m=\u001b[0m \u001b[0mcalls\u001b[0m\u001b[1;33m(\u001b[0m\u001b[0mclass2\u001b[0m\u001b[1;33m,\u001b[0m \u001b[0mspec_start_idx\u001b[0m\u001b[1;33m,\u001b[0m \u001b[0mnum_specs_b\u001b[0m\u001b[1;33m,\u001b[0m \u001b[0mmultiples\u001b[0m\u001b[1;33m,\u001b[0m \u001b[0mnum_bins\u001b[0m\u001b[1;33m,\u001b[0m \u001b[0mdim\u001b[0m\u001b[1;33m,\u001b[0m \u001b[0mstart_a_freq\u001b[0m\u001b[1;33m,\u001b[0m \u001b[0mstop_a_freq\u001b[0m\u001b[1;33m,\u001b[0m \u001b[0mstart_b_freq\u001b[0m\u001b[1;33m,\u001b[0m \u001b[0mstop_b_freq\u001b[0m\u001b[1;33m,\u001b[0m \u001b[0mplot\u001b[0m\u001b[1;33m)\u001b[0m\u001b[1;33m\u001b[0m\u001b[0m\n\u001b[0;32m      5\u001b[0m \u001b[0mprint\u001b[0m\u001b[1;33m(\u001b[0m\u001b[1;34m\"Done with class Bad\"\u001b[0m\u001b[1;33m)\u001b[0m\u001b[1;33m\u001b[0m\u001b[0m\n",
      "\u001b[1;32m<ipython-input-12-c908e38d5031>\u001b[0m in \u001b[0;36mcalls\u001b[1;34m(class_name, spec_start_idx, num_specs, multiples, num_bins, dim, start_a_freq, stop_a_freq, start_b_freq, stop_b_freq, plot)\u001b[0m\n\u001b[0;32m      4\u001b[0m     \u001b[1;31m#Load the correct file\u001b[0m\u001b[1;33m\u001b[0m\u001b[1;33m\u001b[0m\u001b[0m\n\u001b[0;32m      5\u001b[0m     \u001b[0mstr_file\u001b[0m \u001b[1;33m=\u001b[0m \u001b[1;34m'_preprocessed_uncompressed.npz'\u001b[0m\u001b[1;33m\u001b[0m\u001b[0m\n\u001b[1;32m----> 6\u001b[1;33m     \u001b[0mspec_data\u001b[0m\u001b[1;33m,\u001b[0m \u001b[0mtime_steps\u001b[0m\u001b[1;33m,\u001b[0m \u001b[0mfreq_bins\u001b[0m \u001b[1;33m=\u001b[0m \u001b[0mload_display_dimensions\u001b[0m\u001b[1;33m(\u001b[0m\u001b[0mclass_name\u001b[0m\u001b[1;33m,\u001b[0m \u001b[0mstr_file\u001b[0m\u001b[1;33m,\u001b[0m \u001b[0mdim\u001b[0m\u001b[1;33m)\u001b[0m\u001b[1;33m\u001b[0m\u001b[0m\n\u001b[0m\u001b[0;32m      7\u001b[0m \u001b[1;33m\u001b[0m\u001b[0m\n\u001b[0;32m      8\u001b[0m     \u001b[1;31m#Calling helper function for compute_adi_even\u001b[0m\u001b[1;33m\u001b[0m\u001b[1;33m\u001b[0m\u001b[0m\n",
      "\u001b[1;32m<ipython-input-9-2f4e3e15716b>\u001b[0m in \u001b[0;36mload_display_dimensions\u001b[1;34m(class_name, str_file, dim)\u001b[0m\n\u001b[0;32m     16\u001b[0m     \u001b[1;32mif\u001b[0m \u001b[1;33m(\u001b[0m\u001b[0mdim\u001b[0m\u001b[1;33m==\u001b[0m\u001b[1;36m1\u001b[0m\u001b[1;33m)\u001b[0m\u001b[1;33m:\u001b[0m\u001b[1;33m\u001b[0m\u001b[0m\n\u001b[0;32m     17\u001b[0m         print('File has %i specs of dimensions (%i x %i)' % (\n\u001b[1;32m---> 18\u001b[1;33m         spec_data['specs'].shape[0], spec_data['specs'].shape[1], spec_data['specs'].shape[2]))\n\u001b[0m\u001b[0;32m     19\u001b[0m         \u001b[0mprint\u001b[0m\u001b[1;33m(\u001b[0m\u001b[1;34m'Frequency axis points are in spec_data[\\'spec_f\\'] and has %i values'\u001b[0m \u001b[1;33m%\u001b[0m \u001b[0mfreq_bins\u001b[0m\u001b[1;33m)\u001b[0m\u001b[1;33m\u001b[0m\u001b[0m\n\u001b[0;32m     20\u001b[0m         \u001b[0mprint\u001b[0m\u001b[1;33m(\u001b[0m\u001b[1;34m'Time axis points are in spec_data[\\'spec_t\\'] and has %i values'\u001b[0m \u001b[1;33m%\u001b[0m \u001b[0mtime_steps\u001b[0m\u001b[1;33m)\u001b[0m\u001b[1;33m\u001b[0m\u001b[0m\n",
      "\u001b[1;32m~\\Anaconda3\\lib\\site-packages\\numpy\\lib\\npyio.py\u001b[0m in \u001b[0;36m__getitem__\u001b[1;34m(self, key)\u001b[0m\n\u001b[0;32m    231\u001b[0m                 return format.read_array(bytes,\n\u001b[0;32m    232\u001b[0m                                          \u001b[0mallow_pickle\u001b[0m\u001b[1;33m=\u001b[0m\u001b[0mself\u001b[0m\u001b[1;33m.\u001b[0m\u001b[0mallow_pickle\u001b[0m\u001b[1;33m,\u001b[0m\u001b[1;33m\u001b[0m\u001b[0m\n\u001b[1;32m--> 233\u001b[1;33m                                          pickle_kwargs=self.pickle_kwargs)\n\u001b[0m\u001b[0;32m    234\u001b[0m             \u001b[1;32melse\u001b[0m\u001b[1;33m:\u001b[0m\u001b[1;33m\u001b[0m\u001b[0m\n\u001b[0;32m    235\u001b[0m                 \u001b[1;32mreturn\u001b[0m \u001b[0mself\u001b[0m\u001b[1;33m.\u001b[0m\u001b[0mzip\u001b[0m\u001b[1;33m.\u001b[0m\u001b[0mread\u001b[0m\u001b[1;33m(\u001b[0m\u001b[0mkey\u001b[0m\u001b[1;33m)\u001b[0m\u001b[1;33m\u001b[0m\u001b[0m\n",
      "\u001b[1;32m~\\Anaconda3\\lib\\site-packages\\numpy\\lib\\format.py\u001b[0m in \u001b[0;36mread_array\u001b[1;34m(fp, allow_pickle, pickle_kwargs)\u001b[0m\n\u001b[0;32m    671\u001b[0m                     \u001b[0mread_count\u001b[0m \u001b[1;33m=\u001b[0m \u001b[0mmin\u001b[0m\u001b[1;33m(\u001b[0m\u001b[0mmax_read_count\u001b[0m\u001b[1;33m,\u001b[0m \u001b[0mcount\u001b[0m \u001b[1;33m-\u001b[0m \u001b[0mi\u001b[0m\u001b[1;33m)\u001b[0m\u001b[1;33m\u001b[0m\u001b[0m\n\u001b[0;32m    672\u001b[0m                     \u001b[0mread_size\u001b[0m \u001b[1;33m=\u001b[0m \u001b[0mint\u001b[0m\u001b[1;33m(\u001b[0m\u001b[0mread_count\u001b[0m \u001b[1;33m*\u001b[0m \u001b[0mdtype\u001b[0m\u001b[1;33m.\u001b[0m\u001b[0mitemsize\u001b[0m\u001b[1;33m)\u001b[0m\u001b[1;33m\u001b[0m\u001b[0m\n\u001b[1;32m--> 673\u001b[1;33m                     \u001b[0mdata\u001b[0m \u001b[1;33m=\u001b[0m \u001b[0m_read_bytes\u001b[0m\u001b[1;33m(\u001b[0m\u001b[0mfp\u001b[0m\u001b[1;33m,\u001b[0m \u001b[0mread_size\u001b[0m\u001b[1;33m,\u001b[0m \u001b[1;34m\"array data\"\u001b[0m\u001b[1;33m)\u001b[0m\u001b[1;33m\u001b[0m\u001b[0m\n\u001b[0m\u001b[0;32m    674\u001b[0m                     array[i:i+read_count] = numpy.frombuffer(data, dtype=dtype,\n\u001b[0;32m    675\u001b[0m                                                              count=read_count)\n",
      "\u001b[1;32m~\\Anaconda3\\lib\\site-packages\\numpy\\lib\\format.py\u001b[0m in \u001b[0;36m_read_bytes\u001b[1;34m(fp, size, error_template)\u001b[0m\n\u001b[0;32m    810\u001b[0m         \u001b[1;31m# done about that.  note that regular files can't be non-blocking\u001b[0m\u001b[1;33m\u001b[0m\u001b[1;33m\u001b[0m\u001b[0m\n\u001b[0;32m    811\u001b[0m         \u001b[1;32mtry\u001b[0m\u001b[1;33m:\u001b[0m\u001b[1;33m\u001b[0m\u001b[0m\n\u001b[1;32m--> 812\u001b[1;33m             \u001b[0mr\u001b[0m \u001b[1;33m=\u001b[0m \u001b[0mfp\u001b[0m\u001b[1;33m.\u001b[0m\u001b[0mread\u001b[0m\u001b[1;33m(\u001b[0m\u001b[0msize\u001b[0m \u001b[1;33m-\u001b[0m \u001b[0mlen\u001b[0m\u001b[1;33m(\u001b[0m\u001b[0mdata\u001b[0m\u001b[1;33m)\u001b[0m\u001b[1;33m)\u001b[0m\u001b[1;33m\u001b[0m\u001b[0m\n\u001b[0m\u001b[0;32m    813\u001b[0m             \u001b[0mdata\u001b[0m \u001b[1;33m+=\u001b[0m \u001b[0mr\u001b[0m\u001b[1;33m\u001b[0m\u001b[0m\n\u001b[0;32m    814\u001b[0m             \u001b[1;32mif\u001b[0m \u001b[0mlen\u001b[0m\u001b[1;33m(\u001b[0m\u001b[0mr\u001b[0m\u001b[1;33m)\u001b[0m \u001b[1;33m==\u001b[0m \u001b[1;36m0\u001b[0m \u001b[1;32mor\u001b[0m \u001b[0mlen\u001b[0m\u001b[1;33m(\u001b[0m\u001b[0mdata\u001b[0m\u001b[1;33m)\u001b[0m \u001b[1;33m==\u001b[0m \u001b[0msize\u001b[0m\u001b[1;33m:\u001b[0m\u001b[1;33m\u001b[0m\u001b[0m\n",
      "\u001b[1;32m~\\Anaconda3\\lib\\zipfile.py\u001b[0m in \u001b[0;36mread\u001b[1;34m(self, n)\u001b[0m\n\u001b[0;32m    847\u001b[0m         \u001b[0mself\u001b[0m\u001b[1;33m.\u001b[0m\u001b[0m_offset\u001b[0m \u001b[1;33m=\u001b[0m \u001b[1;36m0\u001b[0m\u001b[1;33m\u001b[0m\u001b[0m\n\u001b[0;32m    848\u001b[0m         \u001b[1;32mwhile\u001b[0m \u001b[0mn\u001b[0m \u001b[1;33m>\u001b[0m \u001b[1;36m0\u001b[0m \u001b[1;32mand\u001b[0m \u001b[1;32mnot\u001b[0m \u001b[0mself\u001b[0m\u001b[1;33m.\u001b[0m\u001b[0m_eof\u001b[0m\u001b[1;33m:\u001b[0m\u001b[1;33m\u001b[0m\u001b[0m\n\u001b[1;32m--> 849\u001b[1;33m             \u001b[0mdata\u001b[0m \u001b[1;33m=\u001b[0m \u001b[0mself\u001b[0m\u001b[1;33m.\u001b[0m\u001b[0m_read1\u001b[0m\u001b[1;33m(\u001b[0m\u001b[0mn\u001b[0m\u001b[1;33m)\u001b[0m\u001b[1;33m\u001b[0m\u001b[0m\n\u001b[0m\u001b[0;32m    850\u001b[0m             \u001b[1;32mif\u001b[0m \u001b[0mn\u001b[0m \u001b[1;33m<\u001b[0m \u001b[0mlen\u001b[0m\u001b[1;33m(\u001b[0m\u001b[0mdata\u001b[0m\u001b[1;33m)\u001b[0m\u001b[1;33m:\u001b[0m\u001b[1;33m\u001b[0m\u001b[0m\n\u001b[0;32m    851\u001b[0m                 \u001b[0mself\u001b[0m\u001b[1;33m.\u001b[0m\u001b[0m_readbuffer\u001b[0m \u001b[1;33m=\u001b[0m \u001b[0mdata\u001b[0m\u001b[1;33m\u001b[0m\u001b[0m\n",
      "\u001b[1;32m~\\Anaconda3\\lib\\zipfile.py\u001b[0m in \u001b[0;36m_read1\u001b[1;34m(self, n)\u001b[0m\n\u001b[0;32m    917\u001b[0m                 \u001b[0mdata\u001b[0m \u001b[1;33m+=\u001b[0m \u001b[0mself\u001b[0m\u001b[1;33m.\u001b[0m\u001b[0m_read2\u001b[0m\u001b[1;33m(\u001b[0m\u001b[0mn\u001b[0m \u001b[1;33m-\u001b[0m \u001b[0mlen\u001b[0m\u001b[1;33m(\u001b[0m\u001b[0mdata\u001b[0m\u001b[1;33m)\u001b[0m\u001b[1;33m)\u001b[0m\u001b[1;33m\u001b[0m\u001b[0m\n\u001b[0;32m    918\u001b[0m         \u001b[1;32melse\u001b[0m\u001b[1;33m:\u001b[0m\u001b[1;33m\u001b[0m\u001b[0m\n\u001b[1;32m--> 919\u001b[1;33m             \u001b[0mdata\u001b[0m \u001b[1;33m=\u001b[0m \u001b[0mself\u001b[0m\u001b[1;33m.\u001b[0m\u001b[0m_read2\u001b[0m\u001b[1;33m(\u001b[0m\u001b[0mn\u001b[0m\u001b[1;33m)\u001b[0m\u001b[1;33m\u001b[0m\u001b[0m\n\u001b[0m\u001b[0;32m    920\u001b[0m \u001b[1;33m\u001b[0m\u001b[0m\n\u001b[0;32m    921\u001b[0m         \u001b[1;32mif\u001b[0m \u001b[0mself\u001b[0m\u001b[1;33m.\u001b[0m\u001b[0m_compress_type\u001b[0m \u001b[1;33m==\u001b[0m \u001b[0mZIP_STORED\u001b[0m\u001b[1;33m:\u001b[0m\u001b[1;33m\u001b[0m\u001b[0m\n",
      "\u001b[1;32m~\\Anaconda3\\lib\\zipfile.py\u001b[0m in \u001b[0;36m_read2\u001b[1;34m(self, n)\u001b[0m\n\u001b[0;32m    947\u001b[0m         \u001b[0mn\u001b[0m \u001b[1;33m=\u001b[0m \u001b[0mmin\u001b[0m\u001b[1;33m(\u001b[0m\u001b[0mn\u001b[0m\u001b[1;33m,\u001b[0m \u001b[0mself\u001b[0m\u001b[1;33m.\u001b[0m\u001b[0m_compress_left\u001b[0m\u001b[1;33m)\u001b[0m\u001b[1;33m\u001b[0m\u001b[0m\n\u001b[0;32m    948\u001b[0m \u001b[1;33m\u001b[0m\u001b[0m\n\u001b[1;32m--> 949\u001b[1;33m         \u001b[0mdata\u001b[0m \u001b[1;33m=\u001b[0m \u001b[0mself\u001b[0m\u001b[1;33m.\u001b[0m\u001b[0m_fileobj\u001b[0m\u001b[1;33m.\u001b[0m\u001b[0mread\u001b[0m\u001b[1;33m(\u001b[0m\u001b[0mn\u001b[0m\u001b[1;33m)\u001b[0m\u001b[1;33m\u001b[0m\u001b[0m\n\u001b[0m\u001b[0;32m    950\u001b[0m         \u001b[0mself\u001b[0m\u001b[1;33m.\u001b[0m\u001b[0m_compress_left\u001b[0m \u001b[1;33m-=\u001b[0m \u001b[0mlen\u001b[0m\u001b[1;33m(\u001b[0m\u001b[0mdata\u001b[0m\u001b[1;33m)\u001b[0m\u001b[1;33m\u001b[0m\u001b[0m\n\u001b[0;32m    951\u001b[0m         \u001b[1;32mif\u001b[0m \u001b[1;32mnot\u001b[0m \u001b[0mdata\u001b[0m\u001b[1;33m:\u001b[0m\u001b[1;33m\u001b[0m\u001b[0m\n",
      "\u001b[1;32m~\\Anaconda3\\lib\\zipfile.py\u001b[0m in \u001b[0;36mread\u001b[1;34m(self, n)\u001b[0m\n\u001b[0;32m    704\u001b[0m                         \"Close the writing handle before trying to read.\")\n\u001b[0;32m    705\u001b[0m             \u001b[0mself\u001b[0m\u001b[1;33m.\u001b[0m\u001b[0m_file\u001b[0m\u001b[1;33m.\u001b[0m\u001b[0mseek\u001b[0m\u001b[1;33m(\u001b[0m\u001b[0mself\u001b[0m\u001b[1;33m.\u001b[0m\u001b[0m_pos\u001b[0m\u001b[1;33m)\u001b[0m\u001b[1;33m\u001b[0m\u001b[0m\n\u001b[1;32m--> 706\u001b[1;33m             \u001b[0mdata\u001b[0m \u001b[1;33m=\u001b[0m \u001b[0mself\u001b[0m\u001b[1;33m.\u001b[0m\u001b[0m_file\u001b[0m\u001b[1;33m.\u001b[0m\u001b[0mread\u001b[0m\u001b[1;33m(\u001b[0m\u001b[0mn\u001b[0m\u001b[1;33m)\u001b[0m\u001b[1;33m\u001b[0m\u001b[0m\n\u001b[0m\u001b[0;32m    707\u001b[0m             \u001b[0mself\u001b[0m\u001b[1;33m.\u001b[0m\u001b[0m_pos\u001b[0m \u001b[1;33m=\u001b[0m \u001b[0mself\u001b[0m\u001b[1;33m.\u001b[0m\u001b[0m_file\u001b[0m\u001b[1;33m.\u001b[0m\u001b[0mtell\u001b[0m\u001b[1;33m(\u001b[0m\u001b[1;33m)\u001b[0m\u001b[1;33m\u001b[0m\u001b[0m\n\u001b[0;32m    708\u001b[0m             \u001b[1;32mreturn\u001b[0m \u001b[0mdata\u001b[0m\u001b[1;33m\u001b[0m\u001b[0m\n",
      "\u001b[1;31mKeyboardInterrupt\u001b[0m: "
     ]
    }
   ],
   "source": [
    "#Calls for each class\n",
    "ACI_G1, ADI_G1, ADI_even_G1, SH_G1, NDSI_G1, ACI_G2, ADI_G2, ADI_even_G2, SH_G2, NDSI_G2, ACI_G3, ADI_G3, ADI_even_G3, SH_G3, NDSI_G3, ACI_G4, ADI_G4, ADI_even_G4, SH_G4, NDSI_G4 = calls(class1, spec_start_idx, num_specs_g, multiples, num_bins, dim, start_a_freq, stop_a_freq, start_b_freq, stop_b_freq, plot)\n",
    "print(\"Done with class Good\")\n",
    "ACI_B1, ADI_B1, ADI_even_B1, SH_B1, NDSI_B1, ACI_B2, ADI_B2, ADI_even_B2, SH_B2, NDSI_B2, ACI_B3, ADI_B3, ADI_even_B3, SH_B3, NDSI_B3, ACI_B4, ADI_B4, ADI_even_B4, SH_B4, NDSI_B4 = calls(class2, spec_start_idx, num_specs_b, multiples, num_bins, dim, start_a_freq, stop_a_freq, start_b_freq, stop_b_freq, plot)\n",
    "print(\"Done with class Bad\")\n",
    "ACI_H1, ADI_H1, ADI_even_H1, SH_H1, NDSI_H1, ACI_H2, ADI_H2, ADI_even_H2, SH_H2, NDSI_H2, ACI_H3, ADI_H3, ADI_even_H3, SH_H3, NDSI_H3, ACI_H4, ADI_H4, ADI_even_H4, SH_H4, NDSI_H4 = calls(class3, spec_start_idx, num_specs_h, multiples, num_bins, dim, start_a_freq, stop_a_freq, start_b_freq, stop_b_freq, plot)\n",
    "print(\"Done with class Human\")\n",
    "ACI_M1, ADI_M1, ADI_even_M1, SH_M1, NDSI_M1, ACI_M2, ADI_M2, ADI_even_M2, SH_M2, NDSI_M2, ACI_M3, ADI_M3, ADI_even_M3, SH_M3, NDSI_M3, ACI_M4, ADI_M4, ADI_even_M4, SH_M4, NDSI_M4 = calls(class4, spec_start_idx, num_specs_m, multiples, num_bins, dim, start_a_freq, stop_a_freq, start_b_freq, stop_b_freq, plot)\n",
    "print(\"Done with class Maybe\")\n"
   ]
  },
  {
   "cell_type": "code",
   "execution_count": null,
   "metadata": {
    "scrolled": true
   },
   "outputs": [],
   "source": [
    "#Calls for each class - original spectrograms\n",
    "ACI_G, ADI_G, ADI_even_G, SH_G, NDSI_G = calls_orig(class1, spec_start_idx, num_specs_g, multiples, num_bins, dim, start_a_freq, stop_a_freq, start_b_freq, stop_b_freq, plot)\n",
    "print(\"Done with class Good\")\n",
    "ACI_B, ADI_B, ADI_even_B, SH_B, NDSI_B = calls_orig(class2, spec_start_idx, num_specs_b, multiples, num_bins, dim, start_a_freq, stop_a_freq, start_b_freq, stop_b_freq, plot)\n",
    "print(\"Done with class Bad\")\n",
    "ACI_H, ADI_H, ADI_even_H, SH_H, NDSI_H = calls_orig(class3, spec_start_idx, num_specs_h, multiples, num_bins, dim, start_a_freq, stop_a_freq, start_b_freq, stop_b_freq, plot)\n",
    "print(\"Done with class Human\")\n",
    "ACI_M, ADI_M, ADI_even_M, SH_M, NDSI_M = calls_orig(class4, spec_start_idx, num_specs_m, multiples, num_bins, dim, start_a_freq, stop_a_freq, start_b_freq, stop_b_freq, plot)\n",
    "print(\"Done with class Maybe\")\n"
   ]
  },
  {
   "cell_type": "code",
   "execution_count": null,
   "metadata": {},
   "outputs": [],
   "source": [
    "#Checking values in vectorized+adding eps implementation - original spec\n",
    "print(ACI_G)\n",
    "print(ADI_G)\n",
    "print(ADI_even_G)\n",
    "print(SH_G)\n",
    "print(NDSI_G)"
   ]
  },
  {
   "cell_type": "code",
   "execution_count": null,
   "metadata": {},
   "outputs": [],
   "source": [
    "#Checking values in vectorized+adding eps implementation - channel 1\n",
    "print(ACI_G1)\n",
    "print(ADI_G1)\n",
    "print(ADI_even_G1)\n",
    "print(SH_G1)\n",
    "print(NDSI_G1)"
   ]
  },
  {
   "cell_type": "code",
   "execution_count": null,
   "metadata": {
    "collapsed": true
   },
   "outputs": [],
   "source": [
    "#Seaborn for visualizations\n",
    "import seaborn as sns\n",
    "sns.set(style=\"ticks\")"
   ]
  },
  {
   "cell_type": "code",
   "execution_count": null,
   "metadata": {
    "collapsed": true
   },
   "outputs": [],
   "source": [
    "#General procedure to get pandas dataframes: \n",
    "#(1)reshape the array\n",
    "#(2) create a dataframe with columns as acoustic indices\n",
    "#(3) add an extra column with class name\n",
    "\n",
    "def convert_df(ind1, ind2, ind3, ind4, ind5, num_specs, class_type, ch):\n",
    "    ind1 = np.reshape(ind1, (num_specs, ))\n",
    "    ind2 = np.reshape(ind2, (num_specs, ))\n",
    "    ind3 = np.reshape(ind3, (num_specs, ))\n",
    "    ind4 = np.reshape(ind4, (num_specs, ))\n",
    "    ind5 = np.reshape(ind5, (num_specs, ))\n",
    "    \n",
    "    Class = class_type\n",
    "\n",
    "    data = pd.DataFrame({'ACI': ind1, 'ADI': ind2, 'ADI_even': ind3, 'SH': ind4,'NDSI': ind5, 'Class': Class}, columns=['ACI', 'ADI', 'ADI_even', 'SH', 'NDSI', 'Class'])\n",
    "    #print(data.shape)\n",
    "    #data.head()\n",
    "    \n",
    "    #renaming the columns of the dataframe 'data' to be used while combining not NaN rows later\n",
    "    if(ch!=-1 and ch!=5):\n",
    "        data.rename(columns={'ACI': 'ACI'+str(ch), 'ADI': 'ADI'+str(ch), 'ADI_even': 'ADI_even'+str(ch), 'SH': 'SH'+str(ch), 'NDSI': 'NDSI'+str(ch), 'Class': 'Class'+str(ch)}, inplace=True)\n",
    " \n",
    "    return data"
   ]
  },
  {
   "cell_type": "code",
   "execution_count": null,
   "metadata": {},
   "outputs": [],
   "source": [
    "def get_df_and_plot(ch, ACI_G, ADI_G, ADI_even_G, SH_G, NDSI_G, num_specs_g, ACI_B, ADI_B, ADI_even_B, SH_B, NDSI_B, num_specs_b, ACI_H, ADI_H, ADI_even_H, SH_H, NDSI_H, num_specs_h, ACI_M, ADI_M, ADI_even_M, SH_M, NDSI_M, num_specs_m):\n",
    "\n",
    "\n",
    "    #Converting to dataframes \n",
    "    data_G_orig = convert_df(ACI_G, ADI_G, ADI_even_G, SH_G, NDSI_G, num_specs_g, 'Good', ch)\n",
    "    data_B_orig = convert_df(ACI_B, ADI_B, ADI_even_B, SH_B, NDSI_B, num_specs_b, 'Bad', ch)\n",
    "    data_H_orig = convert_df(ACI_H, ADI_H, ADI_even_H, SH_H, NDSI_H, num_specs_h, 'Human', ch)\n",
    "    data_M_orig = convert_df(ACI_M, ADI_M, ADI_even_M, SH_M, NDSI_M, num_specs_m, 'Maybe', ch)\n",
    "    \n",
    "    #Scatterplot matrix for all 4 classes\n",
    "    all_data_arr = [data_G_orig, data_B_orig, data_H_orig, data_M_orig]\n",
    "    all_data_df = pd.concat(all_data_arr)\n",
    "\n",
    "    print(all_data_df.shape)\n",
    "    #all_data_df.head()\n",
    "    \n",
    "    if(ch!=-1 and ch!=5):\n",
    "        Hue = 'Class' + str(ch)\n",
    "    else:\n",
    "        Hue = 'Class'\n",
    "    \n",
    "    sns.pairplot(all_data_df, hue=Hue)\n",
    "    plt.show()\n",
    "    \n",
    "    #Scatterplot matrix for good and bad only\n",
    "    gb_data_arr = [data_G_orig, data_B_orig]\n",
    "    gb_data_df = pd.concat(gb_data_arr)\n",
    "\n",
    "    print(gb_data_df.shape)\n",
    "    #gb_data_df.head()\n",
    "\n",
    "    sns.pairplot(gb_data_df, hue=Hue)\n",
    "    plt.show()\n",
    "    \n",
    "    return all_data_df, gb_data_df\n",
    "    \n",
    "    "
   ]
  },
  {
   "cell_type": "code",
   "execution_count": null,
   "metadata": {},
   "outputs": [],
   "source": [
    "all_data_df_orig, gb_data_df_orig = get_df_and_plot(-1, ACI_G, ADI_G, ADI_even_G, SH_G, NDSI_G, num_specs_g, ACI_B, ADI_B, ADI_even_B, SH_B, NDSI_B, num_specs_b, ACI_H, ADI_H, ADI_even_H, SH_H, NDSI_H, num_specs_h, ACI_M, ADI_M, ADI_even_M, SH_M, NDSI_M, num_specs_m)\n",
    "\n",
    "all_data_df_orig.head()"
   ]
  },
  {
   "cell_type": "code",
   "execution_count": null,
   "metadata": {},
   "outputs": [],
   "source": [
    "all_data_df1, gb_data_df1 = get_df_and_plot(1, ACI_G1, ADI_G1, ADI_even_G1, SH_G1, NDSI_G1, num_specs_g, ACI_B1, ADI_B1, ADI_even_B1, SH_B1, NDSI_B1, num_specs_b, ACI_H1, ADI_H1, ADI_even_H1, SH_H1, NDSI_H1, num_specs_h, ACI_M1, ADI_M1, ADI_even_M1, SH_M1, NDSI_M1, num_specs_m)\n"
   ]
  },
  {
   "cell_type": "code",
   "execution_count": null,
   "metadata": {},
   "outputs": [],
   "source": [
    "all_data_df2, gb_data_df2 = get_df_and_plot(2, ACI_G2, ADI_G2, ADI_even_G2, SH_G2, NDSI_G2, num_specs_g, ACI_B2, ADI_B2, ADI_even_B2, SH_B2, NDSI_B2, num_specs_b, ACI_H2, ADI_H2, ADI_even_H2, SH_H2, NDSI_H2, num_specs_h, ACI_M2, ADI_M2, ADI_even_M2, SH_M2, NDSI_M2, num_specs_m)\n"
   ]
  },
  {
   "cell_type": "code",
   "execution_count": null,
   "metadata": {},
   "outputs": [],
   "source": [
    "all_data_df3, gb_data_df3 = get_df_and_plot(3, ACI_G3, ADI_G3, ADI_even_G3, SH_G3, NDSI_G3, num_specs_g, ACI_B3, ADI_B3, ADI_even_B3, SH_B3, NDSI_B3, num_specs_b, ACI_H3, ADI_H3, ADI_even_H3, SH_H3, NDSI_H3, num_specs_h, ACI_M3, ADI_M3, ADI_even_M3, SH_M3, NDSI_M3, num_specs_m)"
   ]
  },
  {
   "cell_type": "code",
   "execution_count": null,
   "metadata": {},
   "outputs": [],
   "source": [
    "all_data_df4, gb_data_df4 = get_df_and_plot(4, ACI_G4, ADI_G4, ADI_even_G4, SH_G4, NDSI_G4, num_specs_g, ACI_B4, ADI_B4, ADI_even_B4, SH_B4, NDSI_B4, num_specs_b, ACI_H4, ADI_H4, ADI_even_H4, SH_H4, NDSI_H4, num_specs_h, ACI_M4, ADI_M4, ADI_even_M4, SH_M4, NDSI_M4, num_specs_m)\n"
   ]
  },
  {
   "cell_type": "code",
   "execution_count": null,
   "metadata": {},
   "outputs": [],
   "source": [
    "#Combining all 4 channels \n",
    "all_channel_arr = [all_data_df1, all_data_df2, all_data_df3, all_data_df4]\n",
    "all_channel_df = pd.concat(all_channel_arr, axis=1)\n",
    "\n",
    "print(all_channel_df.shape)\n",
    "all_channel_df.head()\n"
   ]
  },
  {
   "cell_type": "code",
   "execution_count": null,
   "metadata": {},
   "outputs": [],
   "source": [
    "#doing the same for just good-bad data\n",
    "good_bad_arr = [gb_data_df1, gb_data_df2, gb_data_df3, gb_data_df4]\n",
    "good_bad_df = pd.concat(good_bad_arr, axis=1)\n",
    "\n",
    "print(good_bad_df.shape)\n",
    "good_bad_df.head()\n"
   ]
  },
  {
   "cell_type": "code",
   "execution_count": null,
   "metadata": {
    "collapsed": true
   },
   "outputs": [],
   "source": [
    "#Max function\n",
    "def get_max_ind(df):\n",
    "    \n",
    "    max_df = pd.DataFrame(columns=['ACI','ADI','ADI_even','SH','NDSI','Class'])\n",
    "    max_df.head()\n",
    "       \n",
    "    max_df['ACI'] =       df[['ACI1','ACI2','ACI3','ACI4']].max(axis=1)    \n",
    "    max_df['ADI'] =       df[['ADI1','ADI2','ADI3','ADI4']].max(axis=1)\n",
    "    max_df['ADI_even'] =  df[['ADI_even1','ADI_even2','ADI_even3','ADI_even4']].max(axis=1)\n",
    "    max_df['SH'] =        df[['SH1','SH2','SH3','SH4']].max(axis=1)\n",
    "    max_df['NDSI'] =      df[['NDSI1','NDSI2','NDSI3','NDSI4']].max(axis=1)\n",
    "    max_df['Class'] =     df['Class1']\n",
    "    \n",
    "    return max_df\n"
   ]
  },
  {
   "cell_type": "code",
   "execution_count": null,
   "metadata": {
    "collapsed": true
   },
   "outputs": [],
   "source": [
    "#Average function\n",
    "def get_avg_ind(df):\n",
    "    \n",
    "    avg_df = pd.DataFrame(columns=['ACI','ADI','ADI_even','SH','NDSI','Class'])\n",
    "    avg_df.head()\n",
    "    \n",
    "    avg_df['ACI'] =      (df['ACI1']+df['ACI2']+df['ACI3']+df['ACI4'])/4\n",
    "    avg_df['ADI'] =      (df['ADI1']+df['ADI2']+df['ADI3']+df['ADI4'])/4\n",
    "    avg_df['ADI_even'] = (df['ADI_even1']+df['ADI_even2']+df['ADI_even3']+df['ADI_even4'])/4\n",
    "    avg_df['SH'] =       (df['SH1']+df['SH2']+df['SH3']+df['SH4'])/4\n",
    "    avg_df['NDSI'] =     (df['NDSI1']+df['NDSI2']+df['NDSI3']+df['NDSI4'])/4\n",
    "    avg_df['Class'] =     df['Class1']\n",
    "    \n",
    "    return avg_df"
   ]
  },
  {
   "cell_type": "code",
   "execution_count": null,
   "metadata": {},
   "outputs": [],
   "source": [
    "#Calling functions to combine the data - (1) Average (2) Max \n",
    "\n",
    "#Avg\n",
    "avg_all_df = get_avg_ind(all_channel_df)\n",
    "avg_gb_df = get_avg_ind(good_bad_df)\n",
    "\n",
    "print(avg_all_df.shape)\n",
    "sns.pairplot(avg_all_df, hue=\"Class\")\n",
    "plt.show()\n",
    "\n",
    "print(avg_gb_df.shape)\n",
    "sns.pairplot(avg_gb_df, hue=\"Class\")\n",
    "plt.show()\n",
    "\n",
    "  "
   ]
  },
  {
   "cell_type": "code",
   "execution_count": null,
   "metadata": {},
   "outputs": [],
   "source": [
    "#Max\n",
    "max_all_df = get_max_ind(all_channel_df)\n",
    "max_gb_df = get_max_ind(good_bad_df)\n",
    "\n",
    "print(max_all_df.shape)\n",
    "sns.pairplot(max_all_df, hue=\"Class\")\n",
    "plt.show()\n",
    "\n",
    "print(max_gb_df.shape)\n",
    "sns.pairplot(max_gb_df, hue=\"Class\")\n",
    "plt.show()"
   ]
  },
  {
   "cell_type": "code",
   "execution_count": null,
   "metadata": {
    "collapsed": true
   },
   "outputs": [],
   "source": [
    "#Note - dataframes here are - \n",
    "#Combined: (1) original - all_data_df_orig, gb_data_df_orig (2) channels - all_channel_df, good_bad_df\n",
    "#Separate: channels - all_data_df1, gb_data_df2, etc."
   ]
  },
  {
   "cell_type": "code",
   "execution_count": null,
   "metadata": {
    "collapsed": true
   },
   "outputs": [],
   "source": [
    "def combine_specs_4_5(exp, spec_data, spec_start_idx, num_specs):\n",
    "    \n",
    "    if(exp==4):\n",
    "        spec_1 = spec_data['specs'].max(axis=3, keepdims=False)\n",
    "        \n",
    "    elif(exp==5):\n",
    "        spec_1 = spec_data['specs'].mean(axis=3, keepdims=False)\n",
    "\n",
    "    #print(spec_1.shape)\n",
    "\n",
    "    return spec_1\n",
    "    "
   ]
  },
  {
   "cell_type": "code",
   "execution_count": null,
   "metadata": {
    "collapsed": true
   },
   "outputs": [],
   "source": [
    "#calls all functions for each class - is for Exp4\n",
    "def calls_exp_4_5(exp, class_name, spec_start_idx, num_specs, multiples, num_bins, dim, start_a_freq, stop_a_freq, start_b_freq, stop_b_freq, plot=0):\n",
    "\n",
    "    #Load the correct file\n",
    "    str_file = '_preprocessed_uncompressed.npz'\n",
    "    spec_data, time_steps, freq_bins = load_display_dimensions(class_name, str_file, dim)\n",
    "    \n",
    "    #Calling helper function for compute_adi_even\n",
    "    start_freq_idx, stop_freq_idx = get_start_stop_indices(spec_data['spec_f'], multiples, num_bins)\n",
    "\n",
    "    #Combining spectrograms\n",
    "    new_spec = combine_specs_4_5(exp, spec_data, spec_start_idx, num_specs)\n",
    "    \n",
    "    #Computing acoustic indices for all 4 channels\n",
    "    ch = 5\n",
    "    print(new_spec.shape)\n",
    "    \n",
    "    ACI, ADI, ADI_even, SH, NDSI = calc_plot(num_bins, spec_start_idx, num_specs, new_spec, ch, time_steps, freq_bins, spec_data['spec_f'], start_freq_idx, stop_freq_idx, start_a_freq, stop_a_freq, start_b_freq, stop_b_freq, plot)\n",
    "    \n",
    "    return ACI, ADI, ADI_even, SH, NDSI"
   ]
  },
  {
   "cell_type": "code",
   "execution_count": null,
   "metadata": {},
   "outputs": [],
   "source": [
    "#Calls for each class - Exp 4 with max values\n",
    "\n",
    "exp = 4\n",
    "ACI_G_exp4, ADI_G_exp4, ADI_even_G_exp4, SH_G_exp4, NDSI_G_exp4 = calls_exp_4_5(exp, class1, spec_start_idx, num_specs_g, multiples, num_bins, dim, start_a_freq, stop_a_freq, start_b_freq, stop_b_freq, plot)\n",
    "print(\"Done with class Good\")\n",
    "\n",
    "ACI_B_exp4, ADI_B_exp4, ADI_even_B_exp4, SH_B_exp4, NDSI_B_exp4 = calls_exp_4_5(exp, class2, spec_start_idx, num_specs_b, multiples, num_bins, dim, start_a_freq, stop_a_freq, start_b_freq, stop_b_freq, plot)\n",
    "print(\"Done with class Bad\")\n",
    "\n",
    "ACI_H_exp4, ADI_H_exp4, ADI_even_H_exp4, SH_H_exp4, NDSI_H_exp4 = calls_exp_4_5(exp, class3, spec_start_idx, num_specs_h, multiples, num_bins, dim, start_a_freq, stop_a_freq, start_b_freq, stop_b_freq, plot)\n",
    "print(\"Done with class Human\")\n",
    "\n",
    "ACI_M_exp4, ADI_M_exp4, ADI_even_M_exp4, SH_M_exp4, NDSI_M_exp4 = calls_exp_4_5(exp, class4, spec_start_idx, num_specs_m, multiples, num_bins, dim, start_a_freq, stop_a_freq, start_b_freq, stop_b_freq, plot)\n",
    "print(\"Done with class Maybe\")\n",
    "\n"
   ]
  },
  {
   "cell_type": "code",
   "execution_count": null,
   "metadata": {},
   "outputs": [],
   "source": [
    "#Plotting for Exp4\n",
    "all_data_df_exp4, gb_data_df_exp4 = get_df_and_plot(5, ACI_G_exp4, ADI_G_exp4, ADI_even_G_exp4, SH_G_exp4, NDSI_G_exp4, num_specs_g, ACI_B_exp4, ADI_B_exp4, ADI_even_B_exp4, SH_B_exp4, NDSI_B_exp4, num_specs_b, ACI_H_exp4, ADI_H_exp4, ADI_even_H_exp4, SH_H_exp4, NDSI_H_exp4, num_specs_h, ACI_M_exp4, ADI_M_exp4, ADI_even_M_exp4, SH_M_exp4, NDSI_M_exp4, num_specs_m)\n",
    "\n",
    "all_data_df_exp4.head()"
   ]
  },
  {
   "cell_type": "code",
   "execution_count": null,
   "metadata": {},
   "outputs": [],
   "source": [
    "#Calls for each class - Exp 5 with  avg values\n",
    "\n",
    "exp = 5\n",
    "ACI_G_exp5, ADI_G_exp5, ADI_even_G_exp5, SH_G_exp5, NDSI_G_exp5 = calls_exp_4_5(exp, class1, spec_start_idx, num_specs_g, multiples, num_bins, dim, start_a_freq, stop_a_freq, start_b_freq, stop_b_freq, plot)\n",
    "print(\"Done with class Good\")\n",
    "\n",
    "ACI_B_exp5, ADI_B_exp5, ADI_even_B_exp5, SH_B_exp5, NDSI_B_exp5 = calls_exp_4_5(exp, class2, spec_start_idx, num_specs_b, multiples, num_bins, dim, start_a_freq, stop_a_freq, start_b_freq, stop_b_freq, plot)\n",
    "print(\"Done with class Bad\")\n",
    "\n",
    "ACI_H_exp5, ADI_H_exp5, ADI_even_H_exp5, SH_H_exp5, NDSI_H_exp5 = calls_exp_4_5(exp, class3, spec_start_idx, num_specs_h, multiples, num_bins, dim, start_a_freq, stop_a_freq, start_b_freq, stop_b_freq, plot)\n",
    "print(\"Done with class Human\")\n",
    "\n",
    "ACI_M_exp5, ADI_M_exp5, ADI_even_M_exp5, SH_M_exp5, NDSI_M_exp5 = calls_exp_4_5(exp, class4, spec_start_idx, num_specs_m, multiples, num_bins, dim, start_a_freq, stop_a_freq, start_b_freq, stop_b_freq, plot)\n",
    "print(\"Done with class Maybe\")"
   ]
  },
  {
   "cell_type": "code",
   "execution_count": null,
   "metadata": {},
   "outputs": [],
   "source": [
    "#Plotting for Exp5\n",
    "all_data_df_exp5, gb_data_df_exp5 = get_df_and_plot(5, ACI_G_exp5, ADI_G_exp5, ADI_even_G_exp5, SH_G_exp5, NDSI_G_exp5, num_specs_g, ACI_B_exp5, ADI_B_exp5, ADI_even_B_exp5, SH_B_exp5, NDSI_B_exp5, num_specs_b, ACI_H_exp5, ADI_H_exp5, ADI_even_H_exp5, SH_H_exp5, NDSI_H_exp5, num_specs_h, ACI_M_exp5, ADI_M_exp5, ADI_even_M_exp5, SH_M_exp5, NDSI_M_exp5, num_specs_m)\n",
    "\n",
    "all_data_df_exp5.head()"
   ]
  },
  {
   "cell_type": "code",
   "execution_count": null,
   "metadata": {},
   "outputs": [],
   "source": [
    "#Saving ACI values for each class in a separate file\n",
    "\n",
    "#To access ACI value of channel 2, 5th spec, use:\n",
    "#ACI_loaded = np.load('ACI_good.npy', mmap_mode='r')\n",
    "#print(ACI_loaded[2][4])\n",
    "\n",
    "#Channel 0 refers to original spectrogram\n",
    "\n",
    "#So given channel_idx and spec_idx (0 onwards), we want ACI_loaded[channel_idx][spec_idx]\n",
    "\n",
    "ACI_G_vals = (ACI_G, ACI_G1, ACI_G2, ACI_G3, ACI_G4)\n",
    "np.save('ACI_good.npy', ACI_G_vals)\n",
    "\n",
    "ACI_B_vals = (ACI_B, ACI_B1, ACI_B2, ACI_B3, ACI_B4)\n",
    "np.save('ACI_bad.npy', ACI_B_vals)\n",
    "\n",
    "ACI_H_vals = (ACI_H, ACI_H1, ACI_H2, ACI_H3, ACI_H4)\n",
    "np.save('ACI_human.npy', ACI_H_vals)\n",
    "\n",
    "ACI_M_vals = (ACI_M, ACI_M1, ACI_M2, ACI_M3, ACI_M4)\n",
    "np.save('ACI_maybe.npy', ACI_M_vals)\n"
   ]
  },
  {
   "cell_type": "code",
   "execution_count": null,
   "metadata": {
    "collapsed": true
   },
   "outputs": [],
   "source": [
    "#Saving ADI values for each class in a separate file\n",
    "\n",
    "ADI_G_vals = (ADI_G, ADI_G1, ADI_G2, ADI_G3, ADI_G4)\n",
    "np.save('ADI_good.npy', ADI_G_vals)\n",
    "\n",
    "ADI_B_vals = (ADI_B, ADI_B1, ADI_B2, ADI_B3, ADI_B4)\n",
    "np.save('ADI_bad.npy', ADI_B_vals)\n",
    "\n",
    "ADI_H_vals = (ADI_H, ADI_H1, ADI_H2, ADI_H3, ADI_H4)\n",
    "np.save('ADI_human.npy', ADI_H_vals)\n",
    "\n",
    "ADI_M_vals = (ADI_M, ADI_M1, ADI_M2, ADI_M3, ADI_M4)\n",
    "np.save('ADI_maybe.npy', ADI_M_vals)"
   ]
  },
  {
   "cell_type": "code",
   "execution_count": null,
   "metadata": {
    "collapsed": true
   },
   "outputs": [],
   "source": [
    "#Saving ADI_even values for each class in a separate file\n",
    "\n",
    "ADI_even_G_vals = (ADI_even_G, ADI_even_G1, ADI_even_G2, ADI_even_G3, ADI_even_G4)\n",
    "np.save('ADI_even_good.npy', ADI_even_G_vals)\n",
    "\n",
    "ADI_even_B_vals = (ADI_even_B, ADI_even_B1, ADI_even_B2, ADI_even_B3, ADI_even_B4)\n",
    "np.save('ADI_even_bad.npy', ADI_even_B_vals)\n",
    "\n",
    "ADI_even_H_vals = (ADI_even_H, ADI_even_H1, ADI_even_H2, ADI_even_H3, ADI_even_H4)\n",
    "np.save('ADI_even_human.npy', ADI_even_H_vals)\n",
    "\n",
    "ADI_even_M_vals = (ADI_even_M, ADI_even_M1, ADI_even_M2, ADI_even_M3, ADI_even_M4)\n",
    "np.save('ADI_even_maybe.npy', ADI_even_M_vals)"
   ]
  },
  {
   "cell_type": "code",
   "execution_count": null,
   "metadata": {
    "collapsed": true
   },
   "outputs": [],
   "source": [
    "#Saving SH values for each class in a separate file\n",
    "\n",
    "SH_G_vals = (SH_G, SH_G1, SH_G2, SH_G3, SH_G4)\n",
    "np.save('SH_good.npy', SH_G_vals)\n",
    "\n",
    "SH_B_vals = (SH_B, SH_B1, SH_B2, SH_B3, SH_B4)\n",
    "np.save('SH_bad.npy', SH_B_vals)\n",
    "\n",
    "SH_H_vals = (SH_H, SH_H1, SH_H2, SH_H3, SH_H4)\n",
    "np.save('SH_human.npy', SH_H_vals)\n",
    "\n",
    "SH_M_vals = (SH_M, SH_M1, SH_M2, SH_M3, SH_M4)\n",
    "np.save('SH_maybe.npy', SH_M_vals)"
   ]
  },
  {
   "cell_type": "code",
   "execution_count": null,
   "metadata": {
    "collapsed": true
   },
   "outputs": [],
   "source": [
    "#Saving NDSI values for each class in a separate file\n",
    "\n",
    "NDSI_G_vals = (NDSI_G, NDSI_G1, NDSI_G2, NDSI_G3, NDSI_G4)\n",
    "np.save('NDSI_good.npy', NDSI_G_vals)\n",
    "\n",
    "NDSI_B_vals = (NDSI_B, NDSI_B1, NDSI_B2, NDSI_B3, NDSI_B4)\n",
    "np.save('NDSI_bad.npy', NDSI_B_vals)\n",
    "\n",
    "NDSI_H_vals = (NDSI_H, NDSI_H1, NDSI_H2, NDSI_H3, NDSI_H4)\n",
    "np.save('NDSI_human.npy', NDSI_H_vals)\n",
    "\n",
    "NDSI_M_vals = (NDSI_M, NDSI_M1, NDSI_M2, NDSI_M3, NDSI_M4)\n",
    "np.save('NDSI_maybe.npy', NDSI_M_vals)"
   ]
  },
  {
   "cell_type": "code",
   "execution_count": null,
   "metadata": {},
   "outputs": [],
   "source": [
    "#Loading\n",
    "\n",
    "#ACI\n",
    "ACI_good = np.load('ACI_good.npy', mmap_mode='r')\n",
    "print(ACI_good.shape)\n"
   ]
  },
  {
   "cell_type": "code",
   "execution_count": null,
   "metadata": {
    "collapsed": true
   },
   "outputs": [],
   "source": [
    "ACI_G_vals = (ACI_G, ACI_G1, ACI_G2, ACI_G3, ACI_G4)\n",
    "np.save('ACI_good.npz', ACI_G_vals)"
   ]
  },
  {
   "cell_type": "code",
   "execution_count": null,
   "metadata": {},
   "outputs": [],
   "source": [
    "'''\n",
    "#originally\n",
    "ACI_G_vals = (np.arange(num_specs_g), (ACI_G, ACI_G1, ACI_G2, ACI_G3, ACI_G4))\n",
    "ACI_G_file = np.array(ACI_G_vals)\n",
    "\n",
    "ACI_B_vals = (ACI_B, ACI_B1, ACI_B2, ACI_B3, ACI_B4)\n",
    "ACI_B_file = np.array([np.arange(num_specs_b), ACI_B_vals])\n",
    "\n",
    "ACI_H_vals = (ACI_H, ACI_H1, ACI_H2, ACI_H3, ACI_H4)\n",
    "ACI_H_file = np.array([np.arange(num_specs_h), ACI_H_vals])\n",
    "\n",
    "ACI_M_vals = (ACI_M, ACI_M1, ACI_M2, ACI_M3, ACI_M4)\n",
    "ACI_M_file = np.array([np.arange(num_specs_m), ACI_M_vals])\n",
    "\n",
    "np.savez('ACI_vals.npz', ACI_G_file = ACI_G_file, ACI_B_file = ACI_B_file, ACI_H_file = ACI_H_file, ACI_M_file = ACI_M_file)\n",
    "'''"
   ]
  }
 ],
 "metadata": {
  "kernelspec": {
   "display_name": "Python 3",
   "language": "python",
   "name": "python3"
  },
  "language_info": {
   "codemirror_mode": {
    "name": "ipython",
    "version": 3
   },
   "file_extension": ".py",
   "mimetype": "text/x-python",
   "name": "python",
   "nbconvert_exporter": "python",
   "pygments_lexer": "ipython3",
   "version": "3.6.3"
  }
 },
 "nbformat": 4,
 "nbformat_minor": 2
}
