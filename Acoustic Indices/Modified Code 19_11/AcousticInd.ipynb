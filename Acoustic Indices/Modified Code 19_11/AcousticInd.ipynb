{
 "cells": [
  {
   "cell_type": "code",
   "execution_count": 28,
   "metadata": {
    "collapsed": true
   },
   "outputs": [],
   "source": [
    "import numpy as np"
   ]
  },
  {
   "cell_type": "code",
   "execution_count": 29,
   "metadata": {
    "collapsed": true
   },
   "outputs": [],
   "source": [
    "#1. ACI\n",
    "def compute_aci(specs, time_steps, freq_bins, num_specs):\n",
    "      \n",
    "    import numpy as np\n",
    "    #Function computes Acoustic Complexity Index\n",
    "    #According to:\n",
    "    #http://www.iinsteco.org/people/pubblications/almo/2011/2011_A_new%20methodology_to_infer_the_singing_activity.pdf\n",
    "    \n",
    "    #Adding eps\n",
    "    eps = 1e-10\n",
    "    specs = specs + eps  \n",
    "    \n",
    "    abs_diff = np.abs(specs[:, :, 1:] - specs[:, :, 0:time_steps-1])\n",
    "    ACI = np.sum(np.sum(abs_diff, axis = 2)/np.sum(specs, axis = 2), axis = 1)\n",
    "    \n",
    "    return ACI"
   ]
  },
  {
   "cell_type": "code",
   "execution_count": 30,
   "metadata": {
    "collapsed": true
   },
   "outputs": [],
   "source": [
    "#2. Acoustic diversity\n",
    "def compute_adi(specs, time_steps):\n",
    "\n",
    "    import numpy as np\n",
    "    #Function computes Acoustic Diversity Index\n",
    "    #According to: Pekin (2012)\n",
    "    #Each bin corresponds to one of the 70 frequency points\n",
    "   \n",
    "    #Adding eps\n",
    "    eps = 1e-10\n",
    "    specs = specs + eps\n",
    "    \n",
    "    row_sums = specs.sum(axis=2, keepdims=False)\n",
    "    all_sum = row_sums.sum(axis=1, keepdims=True)\n",
    "    row_norm = row_sums/all_sum                                  #normalization\n",
    "    ADI_all = (row_norm * np.log(row_norm)).sum(axis=1)\n",
    "\n",
    "    return ADI_all\n"
   ]
  },
  {
   "cell_type": "code",
   "execution_count": 31,
   "metadata": {
    "collapsed": true
   },
   "outputs": [],
   "source": [
    "#Helper function for compute_adi_even\n",
    "def get_start_stop_indices(freq_bins, multiples=1000, num_bins=8):\n",
    "    \n",
    "    import numpy as np\n",
    "    #find the frequency index numbers to group in bins of 1kHz width from 0-1 kHz, 1-2, till 7-8kHz\n",
    "    stop_freq_idx = np.zeros((num_bins, 1))\n",
    "    start_freq_idx = np.zeros((num_bins,1))\n",
    "\n",
    "    for i in range(num_bins):\n",
    "        stop_freq = multiples*(i+1)\n",
    "        #to find the index to clip\n",
    "        stop_freq_idx[i] = freq_bins.searchsorted(stop_freq, side='right') - 1\n",
    "        if (i<num_bins-1):\n",
    "            start_freq_idx[i+1] = stop_freq_idx[i]+1\n",
    "        \n",
    "    return start_freq_idx, stop_freq_idx"
   ]
  },
  {
   "cell_type": "code",
   "execution_count": 32,
   "metadata": {
    "collapsed": true
   },
   "outputs": [],
   "source": [
    "#3. Acoustic diversity with evenly spaced bins\n",
    "def compute_adi_even(num_bins, specs, freq_vals, start_indices, stop_indices):\n",
    "\n",
    "    import numpy as np\n",
    "    #Function computes Acoustic Diversity Index\n",
    "    #According to: Pekin (2012)\n",
    "    \n",
    "    #Adding eps\n",
    "    eps = 1e-10\n",
    "    specs = specs+eps\n",
    "  \n",
    "    num_specs = specs.shape[0]\n",
    "    ADI_bins = np.zeros((num_specs, num_bins))\n",
    "    \n",
    "    ADI_all = 0\n",
    "    \n",
    "    for i in range(num_bins):      \n",
    "    \n",
    "        #for loop for all time steps in same freq bin - sum each row\n",
    "        start = int(start_indices[i])\n",
    "        stop = int(stop_indices[i])\n",
    "        specs_strip = specs[:, start:stop, :]\n",
    "        ADI_bins[:, i] = np.sum(np.sum(specs_strip, axis = 2), axis = 1)\n",
    "        \n",
    "    #Normalizing by summing along axis 1: bin number\n",
    "    ADI_bins_norm = ADI_bins/np.sum(ADI_bins, axis = 1, keepdims=True)\n",
    "    \n",
    "    #Computing\n",
    "    ADI_all = (ADI_bins_norm * np.log(ADI_bins_norm)).sum(axis=1)\n",
    "    \n",
    "    return ADI_all"
   ]
  },
  {
   "cell_type": "code",
   "execution_count": 33,
   "metadata": {
    "collapsed": true
   },
   "outputs": [],
   "source": [
    "#4. Spectral entropy \n",
    "def compute_sh(specs, time_steps, freq_bin):\n",
    "    \n",
    "    import numpy as np\n",
    "    #This function is a modified version of  spectral entropy as described in Sueur (2008)\n",
    "    #Adding eps\n",
    "    eps = 1e-10\n",
    "    specs = specs+eps\n",
    "    \n",
    "    #Convert each frame to absolute value\n",
    "    time_sums = np.sum(np.abs(specs), axis = 1, keepdims=True)\n",
    "    spec_norm = np.divide(np.abs(specs), time_sums)\n",
    "\n",
    "    #Added the eps in the log term, using np.multiply\n",
    "    mult_term = np.multiply(spec_norm, np.log2(spec_norm + eps))\n",
    "    \n",
    "    #print(\"First frame multiplied: \", mult_term[0, :, 1])\n",
    "   \n",
    "    sh_all = - np.sum(mult_term.sum(axis = 1), axis = 1)\n",
    "    sh_all = sh_all/np.log2(freq_bin)          #normalizing\n",
    "    \n",
    "    return sh_all"
   ]
  },
  {
   "cell_type": "code",
   "execution_count": 34,
   "metadata": {
    "collapsed": true
   },
   "outputs": [],
   "source": [
    "#5. NDSI\n",
    "def compute_ndsi(spec, start_indices, stop_indices, start_a_freq, stop_a_freq, start_b_freq, stop_b_freq):\n",
    "    \n",
    "    import numpy as np\n",
    "    #Taken from the Kasten 2012 paper - page 6 has NDSI description\n",
    "    \n",
    "    #Adding eps\n",
    "    eps = 1e-10\n",
    "    spec = spec + eps\n",
    "    \n",
    "    #Anthrophony bin: 1-2 kHz\n",
    "    start_a = int(start_indices[start_a_freq])\n",
    "    stop_a = int(stop_indices[stop_a_freq-1])\n",
    "    \n",
    "    #Biophony bin: 2-8 kHz\n",
    "    start_b = int(start_indices[start_b_freq])\n",
    "    stop_b = int(stop_indices[stop_b_freq-1])\n",
    "    \n",
    "    #Taking absolute value - power spectral density was squared, so intensities are made positive here\n",
    "\n",
    "    anth_sum = np.sum(np.sum(np.abs(spec[:, start_a:stop_a, :]), axis = 2), axis = 1)\n",
    "    bio_sum = np.sum(np.sum(np.abs(spec[:, start_b:stop_b, :]), axis = 2), axis = 1)\n",
    "    NDSI = (bio_sum-anth_sum)/(bio_sum+anth_sum)\n",
    "    \n",
    "    return NDSI"
   ]
  },
  {
   "cell_type": "code",
   "execution_count": null,
   "metadata": {
    "collapsed": true
   },
   "outputs": [],
   "source": []
  }
 ],
 "metadata": {
  "kernelspec": {
   "display_name": "Python 3",
   "language": "python",
   "name": "python3"
  },
  "language_info": {
   "codemirror_mode": {
    "name": "ipython",
    "version": 3
   },
   "file_extension": ".py",
   "mimetype": "text/x-python",
   "name": "python",
   "nbconvert_exporter": "python",
   "pygments_lexer": "ipython3",
   "version": "3.6.3"
  }
 },
 "nbformat": 4,
 "nbformat_minor": 2
}
