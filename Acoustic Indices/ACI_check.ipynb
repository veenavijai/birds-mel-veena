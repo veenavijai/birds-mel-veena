{
 "cells": [
  {
   "cell_type": "code",
   "execution_count": 162,
   "metadata": {
    "collapsed": true
   },
   "outputs": [],
   "source": [
    "import numpy as np\n",
    "from scipy.signal import spectrogram, lfilter\n",
    "from scipy.signal.windows import hann\n",
    "from scipy.fftpack import dct\n",
    "import os\n",
    "from matplotlib import pyplot as plt\n",
    "import cv2\n",
    "import librosa\n",
    "import time"
   ]
  },
  {
   "cell_type": "code",
   "execution_count": 163,
   "metadata": {
    "collapsed": true
   },
   "outputs": [],
   "source": [
    "#setting eps value for converting spec to log\n",
    "eps = 1e-10"
   ]
  },
  {
   "cell_type": "code",
   "execution_count": 164,
   "metadata": {},
   "outputs": [
    {
     "data": {
      "text/plain": [
       "'\\ndef compute_aci(spec, time_steps, freq_bins):\\n      \\n    #Function computes Acoustic Complexity Index\\n    #According to:\\n    #http://www.iinsteco.org/people/pubblications/almo/2011/2011_A_new%20methodology_to_infer_the_singing_activity.pdf\\n    print(time_steps, freq_bins)\\n    ACI_freq_bins = np.zeros((freq_bins, 1))\\n    ACI_freq_bins_norm = np.zeros((freq_bins, 1))\\n\\n    ACI_all = 0\\n    \\n    for i in range(freq_bins):\\n        \\n        #for loop for all time steps in same freq bin - sum each row\\n        for j in range(time_steps-1):\\n            abs_diff = np.abs( spec[i, j+1] - spec[i,j] )\\n            ACI_freq_bins[i] = abs_diff+ ACI_freq_bins[i] \\n            \\n            #if( (i==0) and ((j==0) or (j==1))):\\n                #print(abs_diff, ACI_freq_bins[i])\\n        \\n        #normalization\\n        row_sum = np.sum(spec[i,:])\\n        #print(\"Row sum = \", str(row_sum), \"and abs sum is \", ACI_freq_bins[i])\\n        ACI_freq_bins_norm[i] = ACI_freq_bins[i]/row_sum\\n        print(ACI_freq_bins_norm[i])\\n            \\n    ACI_all = np.sum(ACI_freq_bins_norm)\\n   \\n    return ACI_all\\n'"
      ]
     },
     "execution_count": 164,
     "metadata": {},
     "output_type": "execute_result"
    }
   ],
   "source": [
    "'''\n",
    "def compute_aci(spec, time_steps, freq_bins):\n",
    "      \n",
    "    #Function computes Acoustic Complexity Index\n",
    "    #According to:\n",
    "    #http://www.iinsteco.org/people/pubblications/almo/2011/2011_A_new%20methodology_to_infer_the_singing_activity.pdf\n",
    "    print(time_steps, freq_bins)\n",
    "    ACI_freq_bins = np.zeros((freq_bins, 1))\n",
    "    ACI_freq_bins_norm = np.zeros((freq_bins, 1))\n",
    "\n",
    "    ACI_all = 0\n",
    "    \n",
    "    for i in range(freq_bins):\n",
    "        \n",
    "        #for loop for all time steps in same freq bin - sum each row\n",
    "        for j in range(time_steps-1):\n",
    "            abs_diff = np.abs( spec[i, j+1] - spec[i,j] )\n",
    "            ACI_freq_bins[i] = abs_diff+ ACI_freq_bins[i] \n",
    "            \n",
    "            #if( (i==0) and ((j==0) or (j==1))):\n",
    "                #print(abs_diff, ACI_freq_bins[i])\n",
    "        \n",
    "        #normalization\n",
    "        row_sum = np.sum(spec[i,:])\n",
    "        #print(\"Row sum = \", str(row_sum), \"and abs sum is \", ACI_freq_bins[i])\n",
    "        ACI_freq_bins_norm[i] = ACI_freq_bins[i]/row_sum\n",
    "        print(ACI_freq_bins_norm[i])\n",
    "            \n",
    "    ACI_all = np.sum(ACI_freq_bins_norm)\n",
    "   \n",
    "    return ACI_all\n",
    "'''"
   ]
  },
  {
   "cell_type": "code",
   "execution_count": 165,
   "metadata": {},
   "outputs": [],
   "source": [
    "#'''\n",
    "def compute_aci(specs, time_steps, freq_bins):\n",
    "      \n",
    "    #Function computes Acoustic Complexity Index\n",
    "    #According to:\n",
    "    #http://www.iinsteco.org/people/pubblications/almo/2011/2011_A_new%20methodology_to_infer_the_singing_activity.pdf\n",
    "\n",
    "    #print(\"Dimensions are \", specs.shape)\n",
    "      \n",
    "    #abs_diff = np.abs(specs[:, :, 2:] - specs[:, :, 1:-1])\n",
    "    #ACI = np.sum(specs.sum(axis=2) / abs_diff.sum(axis=2), axis=1)\n",
    "    \n",
    "    abs_diff = np.abs(specs[:, :, 1:] - specs[:, :, 0:time_steps-1])\n",
    "    \n",
    "    #row_sums = np.sum(specs, axis = 2)\n",
    "    #print(row_sums[0][0])\n",
    "    \n",
    "    #abs_sums = np.sum(abs_diff, axis = 2)\n",
    "    #print(abs_sums[0][0])\n",
    "    \n",
    "    #ACI_vector = abs_sums/row_sums\n",
    "    \n",
    "    \n",
    "    ACI = np.sum(np.sum(abs_diff, axis = 2)/np.sum(specs, axis = 2), axis = 1)\n",
    "    #print(ACI_vector[0][0])\n",
    "    \n",
    "    return ACI\n",
    " #   '''"
   ]
  },
  {
   "cell_type": "code",
   "execution_count": 166,
   "metadata": {
    "collapsed": true
   },
   "outputs": [],
   "source": [
    "#function to load spectrograms and display dimensions (optional)\n",
    "def load_display_dimensions(class_name, dim=0):\n",
    "\n",
    "    #   description of data files\n",
    "    #   spec_data is like a dict with fields\n",
    "    #   'specs' (contains the mel-filtered spectrograms, in linear scale, as [num_specs, num_rows, num_cols])\n",
    "    #   'spec_f' (contains the frequency axis points as a 1D array)\n",
    "    #   'spec_t' (contains the time axis points as a 1D array)   \n",
    "    \n",
    "    #choose if _spec or _melspec\n",
    "    fname_load = class_name + '_spec' + '.npz'\n",
    "    spec_data = np.load(fname_load)\n",
    "    \n",
    "    time_steps = len(spec_data['spec_t'])\n",
    "    freq_bins = len(spec_data['spec_f'])\n",
    "    \n",
    "    dim = 0\n",
    "    \n",
    "    if (dim==1):\n",
    "        print('File has %i specs of dimensions (%i x %i)' % (\n",
    "        spec_data['specs'].shape[0], spec_data['specs'].shape[1], spec_data['specs'].shape[2]))\n",
    "        print('Frequency axis points are in spec_data[\\'spec_f\\'] and has %i values' % freq_bins)\n",
    "        print('Time axis points are in spec_data[\\'spec_t\\'] and has %i values' % time_steps)\n",
    "        \n",
    "    return spec_data, time_steps, freq_bins"
   ]
  },
  {
   "cell_type": "code",
   "execution_count": 167,
   "metadata": {
    "collapsed": true
   },
   "outputs": [],
   "source": [
    "#function to calculate all acoustic indices and plot spectrogram (optional)\n",
    "def calc_plot(spec_start_idx, num_specs, spec_data, time_steps, freq_bins, freq_vals, plot=0):\n",
    "\n",
    "    ACI = np.zeros((num_specs, 1))\n",
    "        \n",
    "    #Calculation of acoustic indices for num_spec spectrograms here\n",
    "    all_specs = 10 * np.log10(spec_data['specs'][spec_start_idx:spec_start_idx+num_specs, :, :] + eps)\n",
    "    ACI = compute_aci(all_specs, time_steps, freq_bins)\n",
    "      \n",
    "    for spec_idx in range(num_specs):\n",
    "     \n",
    "        #Getting current spec from saved log spec\n",
    "        current_spec = all_specs[spec_start_idx + spec_idx, :, :] \n",
    "        \n",
    "        #ACI[spec_idx] = compute_aci(current_spec, time_steps, freq_bins)\n",
    "        \n",
    "        if(plot==1):\n",
    "            cax = axes[spec_idx].imshow(current_spec, cmap=plt.get_cmap('jet'), interpolation='none', origin='lower')\n",
    "            fig.colorbar(cax, ax=axes[spec_idx], orientation='vertical')\n",
    "        \n",
    "    \n",
    "    return ACI\n",
    "       "
   ]
  },
  {
   "cell_type": "code",
   "execution_count": 168,
   "metadata": {
    "collapsed": true
   },
   "outputs": [],
   "source": [
    "def calls(class_name, spec_start_idx, num_specs, multiples, num_bins, dim=0, plot=0):\n",
    "\n",
    "    #Load the correct file\n",
    "    spec_data, time_steps, freq_bins = load_display_dimensions(class_name, dim)\n",
    "    \n",
    "    plot = 0\n",
    "    #Computing acoustic indices\n",
    "    ACI = calc_plot(spec_start_idx, num_specs, spec_data, time_steps, freq_bins, spec_data['spec_f'], plot)\n",
    "    #2. Roughness 3. Temporal entropy 4. Acoustic diversity 5. Acoustic richness \n",
    "    #6. Spectral diversity 7. Spectral kurtosis 8. Spectral entropy 9. ?? 10. ??\n",
    "    \n",
    "    return ACI"
   ]
  },
  {
   "cell_type": "code",
   "execution_count": 169,
   "metadata": {},
   "outputs": [],
   "source": [
    "#environmental sounds/noise\n",
    "fname_list = [\"Airplane_Sound\", \"Heavy_rain\", \"Brown_Noise\", \"Pink_Noise\", \"White_Noise\", \"Rufous_Antpitta\", \"Grey_headed_woodpecker\", \"Italian_Sparrow\", \"Hawk_scream\", \"Dove\"]\n",
    "\n"
   ]
  },
  {
   "cell_type": "code",
   "execution_count": 170,
   "metadata": {},
   "outputs": [
    {
     "name": "stdout",
     "output_type": "stream",
     "text": [
      "For  Airplane_Sound the ACI value is:  [-36.55999756]\n",
      "For  Heavy_rain the ACI value is:  [-37.42383575]\n",
      "For  Brown_Noise the ACI value is:  [-32.15776062]\n",
      "For  Pink_Noise the ACI value is:  [-42.99048996]\n",
      "For  White_Noise the ACI value is:  [-42.99048996]\n",
      "For  Rufous_Antpitta the ACI value is:  [-26.73933792]\n",
      "For  Grey_headed_woodpecker the ACI value is:  [-28.14480591]\n",
      "For  Italian_Sparrow the ACI value is:  [-28.90440178]\n",
      "For  Hawk_scream the ACI value is:  [-31.76561356]\n",
      "For  Dove the ACI value is:  [-25.44630051]\n",
      "Time taken: 191.52402877807617 ms\n"
     ]
    }
   ],
   "source": [
    "#Main\n",
    "\n",
    "#start timer\n",
    "tic = time.time()\n",
    "  \n",
    "#Make sure the indices don't get larger than spec_data['specs'].shape[0]\n",
    "spec_start_idx = 0\n",
    "#num_specs = 2\n",
    "\n",
    "num_specs = 1\n",
    "\n",
    "#Other parameters\n",
    "plot = 0\n",
    "dim = 1\n",
    "num_bins = 8            #for compute_adi_even\n",
    "multiples = 1000\n",
    "\n",
    "ACI = np.zeros((10, 1))\n",
    "#Calls for each class\n",
    "\n",
    "for i in range(10):\n",
    "    \n",
    "    #str_name = 'fname' + str(i+1)\n",
    "    ACI[i] = calls(fname_list[i], spec_start_idx, num_specs, multiples, num_bins, dim, plot)\n",
    "    \n",
    "    print(\"For \", fname_list[i], \"the ACI value is: \", ACI[i])\n",
    "\n",
    "#end timer\n",
    "toc = time.time()\n",
    "print(\"Time taken: \" + str(1000*(toc-tic)) + \" ms\")\n",
    "\n",
    "#Display    \n",
    "#plt.show()"
   ]
  }
 ],
 "metadata": {
  "kernelspec": {
   "display_name": "Python 3",
   "language": "python",
   "name": "python3"
  },
  "language_info": {
   "codemirror_mode": {
    "name": "ipython",
    "version": 3
   },
   "file_extension": ".py",
   "mimetype": "text/x-python",
   "name": "python",
   "nbconvert_exporter": "python",
   "pygments_lexer": "ipython3",
   "version": "3.6.3"
  }
 },
 "nbformat": 4,
 "nbformat_minor": 2
}
